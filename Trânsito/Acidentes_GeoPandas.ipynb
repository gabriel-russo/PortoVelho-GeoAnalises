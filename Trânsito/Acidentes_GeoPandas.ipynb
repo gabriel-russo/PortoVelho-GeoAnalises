{
 "cells": [
  {
   "cell_type": "code",
   "execution_count": 532,
   "metadata": {
    "collapsed": true,
    "pycharm": {
     "name": "#%%\n"
    }
   },
   "outputs": [],
   "source": [
    "import geopandas as gpd\n",
    "import pandas as pd\n",
    "import json\n",
    "import requests\n",
    "from os.path import exists\n",
    "from re import sub"
   ]
  },
  {
   "cell_type": "markdown",
   "source": [
    "## Preparação: Requisição dos dados da API do Observatório\n",
    "\n",
    "> Nota: Não é possível solicitar dados de vítima não fatal mais vítima fatal, pois retorna o código `http 500 - Internal Server Error` - Erro no tempo de execução. Será feito duas requisições separadas e inseridas em arquivos diferentes, e então feito a colagem em seguida."
   ],
   "metadata": {
    "collapsed": false,
    "pycharm": {
     "name": "#%% md\n"
    }
   }
  },
  {
   "cell_type": "code",
   "execution_count": 533,
   "outputs": [],
   "source": [
    "session = requests.Session()\n",
    "\n",
    "params_nao_fatal = {\"data\":\"[[\\\"Todos\\\"],[\\\"PORTO VELHO\\\"],[\\\"VÍTIMA NÃO FATAL\\\"],[\\\"Todos\\\"],[\\\"1/2019\\\"],[\\\"12/2020\\\"]]\",\n",
    "          \"labels\": \"[\\\"Natureza_do_Acidente\\\",\\\"Municipio\\\",\\\"Consequencia\\\",\\\"Via_1\\\",\\\"Data_Inicial\\\",\\\"Data_Final\\\"]\"}\n",
    "\n",
    "params_fatal = {\"data\":\"[[\\\"Todos\\\"],[\\\"PORTO VELHO\\\"],[\\\"VÍTIMA FATAL\\\"],[\\\"Todos\\\"],[\\\"1/2019\\\"],[\\\"12/2020\\\"]]\",\n",
    "          \"labels\": \"[\\\"Natureza_do_Acidente\\\",\\\"Municipio\\\",\\\"Consequencia\\\",\\\"Via_1\\\",\\\"Data_Inicial\\\",\\\"Data_Final\\\"]\"}\n",
    "\n",
    "cookie = {'chave':'lgpd'}\n",
    "\n",
    "if not exists('AcidentesdeTransitoNaoFatal.json'):\n",
    "    req = requests.Session.post(session, url='http://observatorio.sepog.ro.gov.br/TransitoPerfil/GetGeoData', json=params_nao_fatal, cookies=cookie, stream=True)\n",
    "    with open('AcidentesdeTransitoNaoFatal.json', 'wb') as arq_acidentes:\n",
    "        arq_acidentes.write(req.content)\n",
    "\n",
    "if not exists('AcidentesdeTransitoFatal.json'):\n",
    "    req = requests.Session.post(session, url='http://observatorio.sepog.ro.gov.br/TransitoPerfil/GetGeoData',json=params_fatal,cookies=cookie, stream=True)\n",
    "    with open('AcidentesdeTransitoFatal.json', 'wb') as arq_acidentes:\n",
    "        arq_acidentes.write(req.content)"
   ],
   "metadata": {
    "collapsed": false,
    "pycharm": {
     "name": "#%%\n"
    }
   }
  },
  {
   "cell_type": "markdown",
   "source": [
    "## Primeiro passo: Normalização do JSON\n",
    "- Será normalizado usando um método do pandas: [json_normalize](https://pandas.pydata.org/pandas-docs/stable/reference/api/pandas.json_normalize.html)\n",
    "\n",
    "Formato padrão do dado:\n",
    "```\n",
    "{\n",
    "    \"<tipo de acidente>\": {\n",
    "        \"<id>\": {\n",
    "            \"LATITUDE\": <float>,\n",
    "            \"LONGITUDE\": <float>,\n",
    "            \"CONSEQUENCIA\": <string>,\n",
    "            \"MUNICIPIO\": <string>,\n",
    "            \"VEICULO_1\": <string>,\n",
    "            \"VEICULO_2\": <string>,\n",
    "            \"DATA_DO_FATO\": <datetime>,\n",
    "            \"FROTA\": <int>\n",
    "        }\n",
    "    }\n",
    "}\n",
    "```"
   ],
   "metadata": {
    "collapsed": false,
    "pycharm": {
     "name": "#%% md\n"
    }
   }
  },
  {
   "cell_type": "code",
   "execution_count": 534,
   "outputs": [
    {
     "data": {
      "text/plain": "       LATITUDE   LONGITUDE      CONSEQUENCIA    MUNICIPIO      VEICULO_1  \\\n0     -8.762072  -63.843155  VÍTIMA NÃO FATAL  PORTO VELHO  VEÍCULO ÚNICO   \n1     -8.806092  -63.884237  VÍTIMA NÃO FATAL  PORTO VELHO  VEÍCULO ÚNICO   \n2     -8.738549  -63.862959  VÍTIMA NÃO FATAL  PORTO VELHO  VEÍCULO ÚNICO   \n3     -8.774956  -63.892546  VÍTIMA NÃO FATAL  PORTO VELHO  VEÍCULO ÚNICO   \n4     -8.710393  -63.985594  VÍTIMA NÃO FATAL  PORTO VELHO  VEÍCULO ÚNICO   \n...         ...         ...               ...          ...            ...   \n9553  -8.800215  -63.795577  VÍTIMA NÃO FATAL  PORTO VELHO                  \n9554  -8.800483  -63.734232  VÍTIMA NÃO FATAL  PORTO VELHO                  \n9555  -9.158756  -64.193839  VÍTIMA NÃO FATAL  PORTO VELHO                  \n9556  -8.766685  -63.884052  VÍTIMA NÃO FATAL  PORTO VELHO                  \n9557  -8.741762  -63.940741  VÍTIMA NÃO FATAL  PORTO VELHO                  \n\n     VEICULO_2         DATA_DO_FATO   FROTA  \n0         MOTO  02/01/2019 00:00:00  280860  \n1         MOTO  20/01/2019 00:00:00  280860  \n2         MOTO  20/01/2019 00:00:00  280860  \n3         MOTO  25/01/2019 00:00:00  280860  \n4         MOTO  27/01/2019 00:00:00  280860  \n...        ...                  ...     ...  \n9553            12/07/2020 00:00:00  280860  \n9554            08/07/2020 00:00:00  280860  \n9555            01/07/2020 00:00:00  280860  \n9556            01/07/2020 00:00:00  280860  \n9557            04/07/2020 00:00:00  280860  \n\n[9558 rows x 8 columns]",
      "text/html": "<div>\n<style scoped>\n    .dataframe tbody tr th:only-of-type {\n        vertical-align: middle;\n    }\n\n    .dataframe tbody tr th {\n        vertical-align: top;\n    }\n\n    .dataframe thead th {\n        text-align: right;\n    }\n</style>\n<table border=\"1\" class=\"dataframe\">\n  <thead>\n    <tr style=\"text-align: right;\">\n      <th></th>\n      <th>LATITUDE</th>\n      <th>LONGITUDE</th>\n      <th>CONSEQUENCIA</th>\n      <th>MUNICIPIO</th>\n      <th>VEICULO_1</th>\n      <th>VEICULO_2</th>\n      <th>DATA_DO_FATO</th>\n      <th>FROTA</th>\n    </tr>\n  </thead>\n  <tbody>\n    <tr>\n      <th>0</th>\n      <td>-8.762072</td>\n      <td>-63.843155</td>\n      <td>VÍTIMA NÃO FATAL</td>\n      <td>PORTO VELHO</td>\n      <td>VEÍCULO ÚNICO</td>\n      <td>MOTO</td>\n      <td>02/01/2019 00:00:00</td>\n      <td>280860</td>\n    </tr>\n    <tr>\n      <th>1</th>\n      <td>-8.806092</td>\n      <td>-63.884237</td>\n      <td>VÍTIMA NÃO FATAL</td>\n      <td>PORTO VELHO</td>\n      <td>VEÍCULO ÚNICO</td>\n      <td>MOTO</td>\n      <td>20/01/2019 00:00:00</td>\n      <td>280860</td>\n    </tr>\n    <tr>\n      <th>2</th>\n      <td>-8.738549</td>\n      <td>-63.862959</td>\n      <td>VÍTIMA NÃO FATAL</td>\n      <td>PORTO VELHO</td>\n      <td>VEÍCULO ÚNICO</td>\n      <td>MOTO</td>\n      <td>20/01/2019 00:00:00</td>\n      <td>280860</td>\n    </tr>\n    <tr>\n      <th>3</th>\n      <td>-8.774956</td>\n      <td>-63.892546</td>\n      <td>VÍTIMA NÃO FATAL</td>\n      <td>PORTO VELHO</td>\n      <td>VEÍCULO ÚNICO</td>\n      <td>MOTO</td>\n      <td>25/01/2019 00:00:00</td>\n      <td>280860</td>\n    </tr>\n    <tr>\n      <th>4</th>\n      <td>-8.710393</td>\n      <td>-63.985594</td>\n      <td>VÍTIMA NÃO FATAL</td>\n      <td>PORTO VELHO</td>\n      <td>VEÍCULO ÚNICO</td>\n      <td>MOTO</td>\n      <td>27/01/2019 00:00:00</td>\n      <td>280860</td>\n    </tr>\n    <tr>\n      <th>...</th>\n      <td>...</td>\n      <td>...</td>\n      <td>...</td>\n      <td>...</td>\n      <td>...</td>\n      <td>...</td>\n      <td>...</td>\n      <td>...</td>\n    </tr>\n    <tr>\n      <th>9553</th>\n      <td>-8.800215</td>\n      <td>-63.795577</td>\n      <td>VÍTIMA NÃO FATAL</td>\n      <td>PORTO VELHO</td>\n      <td></td>\n      <td></td>\n      <td>12/07/2020 00:00:00</td>\n      <td>280860</td>\n    </tr>\n    <tr>\n      <th>9554</th>\n      <td>-8.800483</td>\n      <td>-63.734232</td>\n      <td>VÍTIMA NÃO FATAL</td>\n      <td>PORTO VELHO</td>\n      <td></td>\n      <td></td>\n      <td>08/07/2020 00:00:00</td>\n      <td>280860</td>\n    </tr>\n    <tr>\n      <th>9555</th>\n      <td>-9.158756</td>\n      <td>-64.193839</td>\n      <td>VÍTIMA NÃO FATAL</td>\n      <td>PORTO VELHO</td>\n      <td></td>\n      <td></td>\n      <td>01/07/2020 00:00:00</td>\n      <td>280860</td>\n    </tr>\n    <tr>\n      <th>9556</th>\n      <td>-8.766685</td>\n      <td>-63.884052</td>\n      <td>VÍTIMA NÃO FATAL</td>\n      <td>PORTO VELHO</td>\n      <td></td>\n      <td></td>\n      <td>01/07/2020 00:00:00</td>\n      <td>280860</td>\n    </tr>\n    <tr>\n      <th>9557</th>\n      <td>-8.741762</td>\n      <td>-63.940741</td>\n      <td>VÍTIMA NÃO FATAL</td>\n      <td>PORTO VELHO</td>\n      <td></td>\n      <td></td>\n      <td>04/07/2020 00:00:00</td>\n      <td>280860</td>\n    </tr>\n  </tbody>\n</table>\n<p>9558 rows × 8 columns</p>\n</div>"
     },
     "execution_count": 534,
     "metadata": {},
     "output_type": "execute_result"
    }
   ],
   "source": [
    "with open('AcidentesdeTransitoNaoFatal.json', 'r') as arq_acidentes:\n",
    "    acidentes = json.load(arq_acidentes)\n",
    "\n",
    "    df = pd.DataFrame() # Crio um DataFrame vazio onde irá reunir os dados normalizados\n",
    "\n",
    "    for tipo_acidente, acidente in acidentes.items(): # Para cada tipo de acidente ...\n",
    "        for id_, informacoes in acidente.items(): # Para cada item do tipo de acidente...\n",
    "            df_items = pd.json_normalize(informacoes)\n",
    "            df = pd.concat((df, df_items), ignore_index=True)\n",
    "df"
   ],
   "metadata": {
    "collapsed": false,
    "pycharm": {
     "name": "#%%\n"
    }
   }
  },
  {
   "cell_type": "code",
   "execution_count": 535,
   "outputs": [
    {
     "data": {
      "text/plain": "       LATITUDE   LONGITUDE      CONSEQUENCIA    MUNICIPIO      VEICULO_1  \\\n0     -8.762072  -63.843155  VÍTIMA NÃO FATAL  PORTO VELHO  VEÍCULO ÚNICO   \n1     -8.806092  -63.884237  VÍTIMA NÃO FATAL  PORTO VELHO  VEÍCULO ÚNICO   \n2     -8.738549  -63.862959  VÍTIMA NÃO FATAL  PORTO VELHO  VEÍCULO ÚNICO   \n3     -8.774956  -63.892546  VÍTIMA NÃO FATAL  PORTO VELHO  VEÍCULO ÚNICO   \n4     -8.710393  -63.985594  VÍTIMA NÃO FATAL  PORTO VELHO  VEÍCULO ÚNICO   \n...         ...         ...               ...          ...            ...   \n9813  -9.347602  -64.644781      VÍTIMA FATAL  PORTO VELHO           MOTO   \n9814  -8.773548  -63.821836      VÍTIMA FATAL  PORTO VELHO           MOTO   \n9815  -9.750465  -66.618236      VÍTIMA FATAL  PORTO VELHO       CAMINHÃO   \n9816  -8.739714  -63.932140      VÍTIMA FATAL  PORTO VELHO                  \n9817  -9.750465  -66.618236      VÍTIMA FATAL  PORTO VELHO       CAMINHÃO   \n\n          VEICULO_2         DATA_DO_FATO   FROTA  \n0              MOTO  02/01/2019 00:00:00  280860  \n1              MOTO  20/01/2019 00:00:00  280860  \n2              MOTO  20/01/2019 00:00:00  280860  \n3              MOTO  25/01/2019 00:00:00  280860  \n4              MOTO  27/01/2019 00:00:00  280860  \n...             ...                  ...     ...  \n9813  VEÍCULO ÚNICO  04/02/2020 00:00:00  280860  \n9814  VEÍCULO ÚNICO  04/05/2020 00:00:00  280860  \n9815  VEÍCULO ÚNICO  28/08/2019 00:00:00  280860  \n9816                 04/10/2020 00:00:00  280860  \n9817  VEÍCULO ÚNICO  28/08/2019 00:00:00  280860  \n\n[9818 rows x 8 columns]",
      "text/html": "<div>\n<style scoped>\n    .dataframe tbody tr th:only-of-type {\n        vertical-align: middle;\n    }\n\n    .dataframe tbody tr th {\n        vertical-align: top;\n    }\n\n    .dataframe thead th {\n        text-align: right;\n    }\n</style>\n<table border=\"1\" class=\"dataframe\">\n  <thead>\n    <tr style=\"text-align: right;\">\n      <th></th>\n      <th>LATITUDE</th>\n      <th>LONGITUDE</th>\n      <th>CONSEQUENCIA</th>\n      <th>MUNICIPIO</th>\n      <th>VEICULO_1</th>\n      <th>VEICULO_2</th>\n      <th>DATA_DO_FATO</th>\n      <th>FROTA</th>\n    </tr>\n  </thead>\n  <tbody>\n    <tr>\n      <th>0</th>\n      <td>-8.762072</td>\n      <td>-63.843155</td>\n      <td>VÍTIMA NÃO FATAL</td>\n      <td>PORTO VELHO</td>\n      <td>VEÍCULO ÚNICO</td>\n      <td>MOTO</td>\n      <td>02/01/2019 00:00:00</td>\n      <td>280860</td>\n    </tr>\n    <tr>\n      <th>1</th>\n      <td>-8.806092</td>\n      <td>-63.884237</td>\n      <td>VÍTIMA NÃO FATAL</td>\n      <td>PORTO VELHO</td>\n      <td>VEÍCULO ÚNICO</td>\n      <td>MOTO</td>\n      <td>20/01/2019 00:00:00</td>\n      <td>280860</td>\n    </tr>\n    <tr>\n      <th>2</th>\n      <td>-8.738549</td>\n      <td>-63.862959</td>\n      <td>VÍTIMA NÃO FATAL</td>\n      <td>PORTO VELHO</td>\n      <td>VEÍCULO ÚNICO</td>\n      <td>MOTO</td>\n      <td>20/01/2019 00:00:00</td>\n      <td>280860</td>\n    </tr>\n    <tr>\n      <th>3</th>\n      <td>-8.774956</td>\n      <td>-63.892546</td>\n      <td>VÍTIMA NÃO FATAL</td>\n      <td>PORTO VELHO</td>\n      <td>VEÍCULO ÚNICO</td>\n      <td>MOTO</td>\n      <td>25/01/2019 00:00:00</td>\n      <td>280860</td>\n    </tr>\n    <tr>\n      <th>4</th>\n      <td>-8.710393</td>\n      <td>-63.985594</td>\n      <td>VÍTIMA NÃO FATAL</td>\n      <td>PORTO VELHO</td>\n      <td>VEÍCULO ÚNICO</td>\n      <td>MOTO</td>\n      <td>27/01/2019 00:00:00</td>\n      <td>280860</td>\n    </tr>\n    <tr>\n      <th>...</th>\n      <td>...</td>\n      <td>...</td>\n      <td>...</td>\n      <td>...</td>\n      <td>...</td>\n      <td>...</td>\n      <td>...</td>\n      <td>...</td>\n    </tr>\n    <tr>\n      <th>9813</th>\n      <td>-9.347602</td>\n      <td>-64.644781</td>\n      <td>VÍTIMA FATAL</td>\n      <td>PORTO VELHO</td>\n      <td>MOTO</td>\n      <td>VEÍCULO ÚNICO</td>\n      <td>04/02/2020 00:00:00</td>\n      <td>280860</td>\n    </tr>\n    <tr>\n      <th>9814</th>\n      <td>-8.773548</td>\n      <td>-63.821836</td>\n      <td>VÍTIMA FATAL</td>\n      <td>PORTO VELHO</td>\n      <td>MOTO</td>\n      <td>VEÍCULO ÚNICO</td>\n      <td>04/05/2020 00:00:00</td>\n      <td>280860</td>\n    </tr>\n    <tr>\n      <th>9815</th>\n      <td>-9.750465</td>\n      <td>-66.618236</td>\n      <td>VÍTIMA FATAL</td>\n      <td>PORTO VELHO</td>\n      <td>CAMINHÃO</td>\n      <td>VEÍCULO ÚNICO</td>\n      <td>28/08/2019 00:00:00</td>\n      <td>280860</td>\n    </tr>\n    <tr>\n      <th>9816</th>\n      <td>-8.739714</td>\n      <td>-63.932140</td>\n      <td>VÍTIMA FATAL</td>\n      <td>PORTO VELHO</td>\n      <td></td>\n      <td></td>\n      <td>04/10/2020 00:00:00</td>\n      <td>280860</td>\n    </tr>\n    <tr>\n      <th>9817</th>\n      <td>-9.750465</td>\n      <td>-66.618236</td>\n      <td>VÍTIMA FATAL</td>\n      <td>PORTO VELHO</td>\n      <td>CAMINHÃO</td>\n      <td>VEÍCULO ÚNICO</td>\n      <td>28/08/2019 00:00:00</td>\n      <td>280860</td>\n    </tr>\n  </tbody>\n</table>\n<p>9818 rows × 8 columns</p>\n</div>"
     },
     "execution_count": 535,
     "metadata": {},
     "output_type": "execute_result"
    }
   ],
   "source": [
    "with open('AcidentesdeTransitoFatal.json', 'r') as arq_acidentes:\n",
    "    acidentes = json.load(arq_acidentes)\n",
    "\n",
    "    # Mesma lógica para este DF\n",
    "    for tipo_acidente, acidente in acidentes.items():\n",
    "        for id_, informacoes in acidente.items():\n",
    "            df_items = pd.json_normalize(informacoes)\n",
    "            df = pd.concat((df, df_items), ignore_index=True) # Como o DF já existe, utilizo ele para a inserção.\n",
    "df"
   ],
   "metadata": {
    "collapsed": false,
    "pycharm": {
     "name": "#%%\n"
    }
   }
  },
  {
   "cell_type": "markdown",
   "source": [
    "## Segundo passo: Limpeza dos dados\n",
    "- Excluir dados sem LATLON\n",
    "- Substituir valores vazios das colunas VEICULO_1 e VEICULO_2 com `NÃO INFORMADO`"
   ],
   "metadata": {
    "collapsed": false,
    "pycharm": {
     "name": "#%% md\n"
    }
   }
  },
  {
   "cell_type": "markdown",
   "source": [
    "#### Dados que estão sem geo ou com latitude ou longitude faltando e removendo-os"
   ],
   "metadata": {
    "collapsed": false,
    "pycharm": {
     "name": "#%% md\n"
    }
   }
  },
  {
   "cell_type": "code",
   "execution_count": 536,
   "outputs": [
    {
     "data": {
      "text/plain": "     LATITUDE LONGITUDE      CONSEQUENCIA    MUNICIPIO      VEICULO_1  \\\n7     SEM GEO   SEM GEO  VÍTIMA NÃO FATAL  PORTO VELHO           MOTO   \n8     SEM GEO   SEM GEO  VÍTIMA NÃO FATAL  PORTO VELHO      AUTOMÓVEL   \n10    SEM GEO   SEM GEO  VÍTIMA NÃO FATAL  PORTO VELHO           MOTO   \n30    SEM GEO   SEM GEO  VÍTIMA NÃO FATAL  PORTO VELHO           MOTO   \n37    SEM GEO   SEM GEO  VÍTIMA NÃO FATAL  PORTO VELHO      AUTOMÓVEL   \n...       ...       ...               ...          ...            ...   \n9792  SEM GEO   SEM GEO      VÍTIMA FATAL  PORTO VELHO           MOTO   \n9805  SEM GEO   SEM GEO      VÍTIMA FATAL  PORTO VELHO       CAMINHÃO   \n9807  SEM GEO   SEM GEO      VÍTIMA FATAL  PORTO VELHO  VEÍCULO ÚNICO   \n9810  SEM GEO   SEM GEO      VÍTIMA FATAL  PORTO VELHO  VEÍCULO ÚNICO   \n9812  SEM GEO   SEM GEO      VÍTIMA FATAL  PORTO VELHO       CAMINHÃO   \n\n          VEICULO_2         DATA_DO_FATO   FROTA  \n7     VEÍCULO ÚNICO  19/08/2020 00:00:00  280860  \n8     VEÍCULO ÚNICO  22/08/2020 00:00:00  280860  \n10    VEÍCULO ÚNICO  11/09/2020 00:00:00  280860  \n30    VEÍCULO ÚNICO  25/01/2020 00:00:00  280860  \n37    VEÍCULO ÚNICO  02/02/2020 00:00:00  280860  \n...             ...                  ...     ...  \n9792  VEÍCULO ÚNICO  19/05/2020 00:00:00  280860  \n9805  VEÍCULO ÚNICO  14/04/2019 00:00:00  280860  \n9807       CAMINHÃO  30/05/2019 00:00:00  280860  \n9810       CAMINHÃO  30/05/2019 00:00:00  280860  \n9812  VEÍCULO ÚNICO  14/04/2019 00:00:00  280860  \n\n[479 rows x 8 columns]",
      "text/html": "<div>\n<style scoped>\n    .dataframe tbody tr th:only-of-type {\n        vertical-align: middle;\n    }\n\n    .dataframe tbody tr th {\n        vertical-align: top;\n    }\n\n    .dataframe thead th {\n        text-align: right;\n    }\n</style>\n<table border=\"1\" class=\"dataframe\">\n  <thead>\n    <tr style=\"text-align: right;\">\n      <th></th>\n      <th>LATITUDE</th>\n      <th>LONGITUDE</th>\n      <th>CONSEQUENCIA</th>\n      <th>MUNICIPIO</th>\n      <th>VEICULO_1</th>\n      <th>VEICULO_2</th>\n      <th>DATA_DO_FATO</th>\n      <th>FROTA</th>\n    </tr>\n  </thead>\n  <tbody>\n    <tr>\n      <th>7</th>\n      <td>SEM GEO</td>\n      <td>SEM GEO</td>\n      <td>VÍTIMA NÃO FATAL</td>\n      <td>PORTO VELHO</td>\n      <td>MOTO</td>\n      <td>VEÍCULO ÚNICO</td>\n      <td>19/08/2020 00:00:00</td>\n      <td>280860</td>\n    </tr>\n    <tr>\n      <th>8</th>\n      <td>SEM GEO</td>\n      <td>SEM GEO</td>\n      <td>VÍTIMA NÃO FATAL</td>\n      <td>PORTO VELHO</td>\n      <td>AUTOMÓVEL</td>\n      <td>VEÍCULO ÚNICO</td>\n      <td>22/08/2020 00:00:00</td>\n      <td>280860</td>\n    </tr>\n    <tr>\n      <th>10</th>\n      <td>SEM GEO</td>\n      <td>SEM GEO</td>\n      <td>VÍTIMA NÃO FATAL</td>\n      <td>PORTO VELHO</td>\n      <td>MOTO</td>\n      <td>VEÍCULO ÚNICO</td>\n      <td>11/09/2020 00:00:00</td>\n      <td>280860</td>\n    </tr>\n    <tr>\n      <th>30</th>\n      <td>SEM GEO</td>\n      <td>SEM GEO</td>\n      <td>VÍTIMA NÃO FATAL</td>\n      <td>PORTO VELHO</td>\n      <td>MOTO</td>\n      <td>VEÍCULO ÚNICO</td>\n      <td>25/01/2020 00:00:00</td>\n      <td>280860</td>\n    </tr>\n    <tr>\n      <th>37</th>\n      <td>SEM GEO</td>\n      <td>SEM GEO</td>\n      <td>VÍTIMA NÃO FATAL</td>\n      <td>PORTO VELHO</td>\n      <td>AUTOMÓVEL</td>\n      <td>VEÍCULO ÚNICO</td>\n      <td>02/02/2020 00:00:00</td>\n      <td>280860</td>\n    </tr>\n    <tr>\n      <th>...</th>\n      <td>...</td>\n      <td>...</td>\n      <td>...</td>\n      <td>...</td>\n      <td>...</td>\n      <td>...</td>\n      <td>...</td>\n      <td>...</td>\n    </tr>\n    <tr>\n      <th>9792</th>\n      <td>SEM GEO</td>\n      <td>SEM GEO</td>\n      <td>VÍTIMA FATAL</td>\n      <td>PORTO VELHO</td>\n      <td>MOTO</td>\n      <td>VEÍCULO ÚNICO</td>\n      <td>19/05/2020 00:00:00</td>\n      <td>280860</td>\n    </tr>\n    <tr>\n      <th>9805</th>\n      <td>SEM GEO</td>\n      <td>SEM GEO</td>\n      <td>VÍTIMA FATAL</td>\n      <td>PORTO VELHO</td>\n      <td>CAMINHÃO</td>\n      <td>VEÍCULO ÚNICO</td>\n      <td>14/04/2019 00:00:00</td>\n      <td>280860</td>\n    </tr>\n    <tr>\n      <th>9807</th>\n      <td>SEM GEO</td>\n      <td>SEM GEO</td>\n      <td>VÍTIMA FATAL</td>\n      <td>PORTO VELHO</td>\n      <td>VEÍCULO ÚNICO</td>\n      <td>CAMINHÃO</td>\n      <td>30/05/2019 00:00:00</td>\n      <td>280860</td>\n    </tr>\n    <tr>\n      <th>9810</th>\n      <td>SEM GEO</td>\n      <td>SEM GEO</td>\n      <td>VÍTIMA FATAL</td>\n      <td>PORTO VELHO</td>\n      <td>VEÍCULO ÚNICO</td>\n      <td>CAMINHÃO</td>\n      <td>30/05/2019 00:00:00</td>\n      <td>280860</td>\n    </tr>\n    <tr>\n      <th>9812</th>\n      <td>SEM GEO</td>\n      <td>SEM GEO</td>\n      <td>VÍTIMA FATAL</td>\n      <td>PORTO VELHO</td>\n      <td>CAMINHÃO</td>\n      <td>VEÍCULO ÚNICO</td>\n      <td>14/04/2019 00:00:00</td>\n      <td>280860</td>\n    </tr>\n  </tbody>\n</table>\n<p>479 rows × 8 columns</p>\n</div>"
     },
     "execution_count": 536,
     "metadata": {},
     "output_type": "execute_result"
    }
   ],
   "source": [
    "df[(df.LATITUDE == \"SEM GEO\") | (df.LONGITUDE == \"SEM GEO\")]"
   ],
   "metadata": {
    "collapsed": false,
    "pycharm": {
     "name": "#%%\n"
    }
   }
  },
  {
   "cell_type": "markdown",
   "source": [
    "Removendo..."
   ],
   "metadata": {
    "collapsed": false,
    "pycharm": {
     "name": "#%% md\n"
    }
   }
  },
  {
   "cell_type": "code",
   "execution_count": 537,
   "outputs": [
    {
     "data": {
      "text/plain": "       LATITUDE   LONGITUDE      CONSEQUENCIA    MUNICIPIO      VEICULO_1  \\\n0     -8.762072  -63.843155  VÍTIMA NÃO FATAL  PORTO VELHO  VEÍCULO ÚNICO   \n1     -8.806092  -63.884237  VÍTIMA NÃO FATAL  PORTO VELHO  VEÍCULO ÚNICO   \n2     -8.738549  -63.862959  VÍTIMA NÃO FATAL  PORTO VELHO  VEÍCULO ÚNICO   \n3     -8.774956  -63.892546  VÍTIMA NÃO FATAL  PORTO VELHO  VEÍCULO ÚNICO   \n4     -8.710393  -63.985594  VÍTIMA NÃO FATAL  PORTO VELHO  VEÍCULO ÚNICO   \n...         ...         ...               ...          ...            ...   \n9813  -9.347602  -64.644781      VÍTIMA FATAL  PORTO VELHO           MOTO   \n9814  -8.773548  -63.821836      VÍTIMA FATAL  PORTO VELHO           MOTO   \n9815  -9.750465  -66.618236      VÍTIMA FATAL  PORTO VELHO       CAMINHÃO   \n9816  -8.739714  -63.932140      VÍTIMA FATAL  PORTO VELHO                  \n9817  -9.750465  -66.618236      VÍTIMA FATAL  PORTO VELHO       CAMINHÃO   \n\n          VEICULO_2         DATA_DO_FATO   FROTA  \n0              MOTO  02/01/2019 00:00:00  280860  \n1              MOTO  20/01/2019 00:00:00  280860  \n2              MOTO  20/01/2019 00:00:00  280860  \n3              MOTO  25/01/2019 00:00:00  280860  \n4              MOTO  27/01/2019 00:00:00  280860  \n...             ...                  ...     ...  \n9813  VEÍCULO ÚNICO  04/02/2020 00:00:00  280860  \n9814  VEÍCULO ÚNICO  04/05/2020 00:00:00  280860  \n9815  VEÍCULO ÚNICO  28/08/2019 00:00:00  280860  \n9816                 04/10/2020 00:00:00  280860  \n9817  VEÍCULO ÚNICO  28/08/2019 00:00:00  280860  \n\n[9339 rows x 8 columns]",
      "text/html": "<div>\n<style scoped>\n    .dataframe tbody tr th:only-of-type {\n        vertical-align: middle;\n    }\n\n    .dataframe tbody tr th {\n        vertical-align: top;\n    }\n\n    .dataframe thead th {\n        text-align: right;\n    }\n</style>\n<table border=\"1\" class=\"dataframe\">\n  <thead>\n    <tr style=\"text-align: right;\">\n      <th></th>\n      <th>LATITUDE</th>\n      <th>LONGITUDE</th>\n      <th>CONSEQUENCIA</th>\n      <th>MUNICIPIO</th>\n      <th>VEICULO_1</th>\n      <th>VEICULO_2</th>\n      <th>DATA_DO_FATO</th>\n      <th>FROTA</th>\n    </tr>\n  </thead>\n  <tbody>\n    <tr>\n      <th>0</th>\n      <td>-8.762072</td>\n      <td>-63.843155</td>\n      <td>VÍTIMA NÃO FATAL</td>\n      <td>PORTO VELHO</td>\n      <td>VEÍCULO ÚNICO</td>\n      <td>MOTO</td>\n      <td>02/01/2019 00:00:00</td>\n      <td>280860</td>\n    </tr>\n    <tr>\n      <th>1</th>\n      <td>-8.806092</td>\n      <td>-63.884237</td>\n      <td>VÍTIMA NÃO FATAL</td>\n      <td>PORTO VELHO</td>\n      <td>VEÍCULO ÚNICO</td>\n      <td>MOTO</td>\n      <td>20/01/2019 00:00:00</td>\n      <td>280860</td>\n    </tr>\n    <tr>\n      <th>2</th>\n      <td>-8.738549</td>\n      <td>-63.862959</td>\n      <td>VÍTIMA NÃO FATAL</td>\n      <td>PORTO VELHO</td>\n      <td>VEÍCULO ÚNICO</td>\n      <td>MOTO</td>\n      <td>20/01/2019 00:00:00</td>\n      <td>280860</td>\n    </tr>\n    <tr>\n      <th>3</th>\n      <td>-8.774956</td>\n      <td>-63.892546</td>\n      <td>VÍTIMA NÃO FATAL</td>\n      <td>PORTO VELHO</td>\n      <td>VEÍCULO ÚNICO</td>\n      <td>MOTO</td>\n      <td>25/01/2019 00:00:00</td>\n      <td>280860</td>\n    </tr>\n    <tr>\n      <th>4</th>\n      <td>-8.710393</td>\n      <td>-63.985594</td>\n      <td>VÍTIMA NÃO FATAL</td>\n      <td>PORTO VELHO</td>\n      <td>VEÍCULO ÚNICO</td>\n      <td>MOTO</td>\n      <td>27/01/2019 00:00:00</td>\n      <td>280860</td>\n    </tr>\n    <tr>\n      <th>...</th>\n      <td>...</td>\n      <td>...</td>\n      <td>...</td>\n      <td>...</td>\n      <td>...</td>\n      <td>...</td>\n      <td>...</td>\n      <td>...</td>\n    </tr>\n    <tr>\n      <th>9813</th>\n      <td>-9.347602</td>\n      <td>-64.644781</td>\n      <td>VÍTIMA FATAL</td>\n      <td>PORTO VELHO</td>\n      <td>MOTO</td>\n      <td>VEÍCULO ÚNICO</td>\n      <td>04/02/2020 00:00:00</td>\n      <td>280860</td>\n    </tr>\n    <tr>\n      <th>9814</th>\n      <td>-8.773548</td>\n      <td>-63.821836</td>\n      <td>VÍTIMA FATAL</td>\n      <td>PORTO VELHO</td>\n      <td>MOTO</td>\n      <td>VEÍCULO ÚNICO</td>\n      <td>04/05/2020 00:00:00</td>\n      <td>280860</td>\n    </tr>\n    <tr>\n      <th>9815</th>\n      <td>-9.750465</td>\n      <td>-66.618236</td>\n      <td>VÍTIMA FATAL</td>\n      <td>PORTO VELHO</td>\n      <td>CAMINHÃO</td>\n      <td>VEÍCULO ÚNICO</td>\n      <td>28/08/2019 00:00:00</td>\n      <td>280860</td>\n    </tr>\n    <tr>\n      <th>9816</th>\n      <td>-8.739714</td>\n      <td>-63.932140</td>\n      <td>VÍTIMA FATAL</td>\n      <td>PORTO VELHO</td>\n      <td></td>\n      <td></td>\n      <td>04/10/2020 00:00:00</td>\n      <td>280860</td>\n    </tr>\n    <tr>\n      <th>9817</th>\n      <td>-9.750465</td>\n      <td>-66.618236</td>\n      <td>VÍTIMA FATAL</td>\n      <td>PORTO VELHO</td>\n      <td>CAMINHÃO</td>\n      <td>VEÍCULO ÚNICO</td>\n      <td>28/08/2019 00:00:00</td>\n      <td>280860</td>\n    </tr>\n  </tbody>\n</table>\n<p>9339 rows × 8 columns</p>\n</div>"
     },
     "execution_count": 537,
     "metadata": {},
     "output_type": "execute_result"
    }
   ],
   "source": [
    "df.drop(df.loc[(df.LATITUDE == \"SEM GEO\") | (df.LONGITUDE == \"SEM GEO\")].index, inplace=True)\n",
    "df"
   ],
   "metadata": {
    "collapsed": false,
    "pycharm": {
     "name": "#%%\n"
    }
   }
  },
  {
   "cell_type": "markdown",
   "source": [],
   "metadata": {
    "collapsed": false,
    "pycharm": {
     "name": "#%% md\n"
    }
   }
  },
  {
   "cell_type": "markdown",
   "source": [
    "#### Exemplo de tupla do DF que já está preenchida com `NÃO INFORMADO`"
   ],
   "metadata": {
    "collapsed": false,
    "pycharm": {
     "name": "#%% md\n"
    }
   }
  },
  {
   "cell_type": "code",
   "execution_count": 538,
   "outputs": [
    {
     "data": {
      "text/plain": "      LATITUDE   LONGITUDE      CONSEQUENCIA    MUNICIPIO      VEICULO_1  \\\n249  -8.763265  -63.876865  VÍTIMA NÃO FATAL  PORTO VELHO  NÃO INFORMADO   \n\n         VEICULO_2         DATA_DO_FATO   FROTA  \n249  VEÍCULO ÚNICO  09/04/2020 00:00:00  280860  ",
      "text/html": "<div>\n<style scoped>\n    .dataframe tbody tr th:only-of-type {\n        vertical-align: middle;\n    }\n\n    .dataframe tbody tr th {\n        vertical-align: top;\n    }\n\n    .dataframe thead th {\n        text-align: right;\n    }\n</style>\n<table border=\"1\" class=\"dataframe\">\n  <thead>\n    <tr style=\"text-align: right;\">\n      <th></th>\n      <th>LATITUDE</th>\n      <th>LONGITUDE</th>\n      <th>CONSEQUENCIA</th>\n      <th>MUNICIPIO</th>\n      <th>VEICULO_1</th>\n      <th>VEICULO_2</th>\n      <th>DATA_DO_FATO</th>\n      <th>FROTA</th>\n    </tr>\n  </thead>\n  <tbody>\n    <tr>\n      <th>249</th>\n      <td>-8.763265</td>\n      <td>-63.876865</td>\n      <td>VÍTIMA NÃO FATAL</td>\n      <td>PORTO VELHO</td>\n      <td>NÃO INFORMADO</td>\n      <td>VEÍCULO ÚNICO</td>\n      <td>09/04/2020 00:00:00</td>\n      <td>280860</td>\n    </tr>\n  </tbody>\n</table>\n</div>"
     },
     "execution_count": 538,
     "metadata": {},
     "output_type": "execute_result"
    }
   ],
   "source": [
    "df[(df.VEICULO_1 == \"NÃO INFORMADO\") | (df.VEICULO_2 == 'NÃO INFORMADO')].head(1)"
   ],
   "metadata": {
    "collapsed": false,
    "pycharm": {
     "name": "#%%\n"
    }
   }
  },
  {
   "cell_type": "markdown",
   "source": [
    "#### Substituir dados vazios com `NÃO INFORMADO`"
   ],
   "metadata": {
    "collapsed": false,
    "pycharm": {
     "name": "#%% md\n"
    }
   }
  },
  {
   "cell_type": "code",
   "execution_count": 539,
   "outputs": [],
   "source": [
    "df.loc[df.VEICULO_1 == '', 'VEICULO_1'] = 'NÃO INFORMADO' # Selecione as tuplas da coluna VEICULO_1 que tenham a condição verdadeira e substitua com 'NÃO INFOMADO'\n",
    "df.loc[df.VEICULO_2 == '', 'VEICULO_2'] = 'NÃO INFORMADO'"
   ],
   "metadata": {
    "collapsed": false,
    "pycharm": {
     "name": "#%%\n"
    }
   }
  },
  {
   "cell_type": "markdown",
   "source": [
    "### Terceiro Passo: Converter DATA_DO_FATO para datetime e Converter Pandas para GeoPandas\n",
    "- Mudar tipo de dado da coluna DATA_DO_FATO para datetime\n",
    "- Tratar os dados para gerar uma GeoDataFrame válido a partir do DataFrame"
   ],
   "metadata": {
    "collapsed": false,
    "pycharm": {
     "name": "#%% md\n"
    }
   }
  },
  {
   "cell_type": "markdown",
   "source": [
    "#### Convertendo coluna DATA_DO_FATO de str para datetime64"
   ],
   "metadata": {
    "collapsed": false,
    "pycharm": {
     "name": "#%% md\n"
    }
   }
  },
  {
   "cell_type": "code",
   "execution_count": 540,
   "outputs": [
    {
     "data": {
      "text/plain": "    LATITUDE   LONGITUDE      CONSEQUENCIA    MUNICIPIO      VEICULO_1  \\\n0  -8.762072  -63.843155  VÍTIMA NÃO FATAL  PORTO VELHO  VEÍCULO ÚNICO   \n1  -8.806092  -63.884237  VÍTIMA NÃO FATAL  PORTO VELHO  VEÍCULO ÚNICO   \n2  -8.738549  -63.862959  VÍTIMA NÃO FATAL  PORTO VELHO  VEÍCULO ÚNICO   \n3  -8.774956  -63.892546  VÍTIMA NÃO FATAL  PORTO VELHO  VEÍCULO ÚNICO   \n4  -8.710393  -63.985594  VÍTIMA NÃO FATAL  PORTO VELHO  VEÍCULO ÚNICO   \n\n  VEICULO_2 DATA_DO_FATO   FROTA  \n0      MOTO   2019-02-01  280860  \n1      MOTO   2019-01-20  280860  \n2      MOTO   2019-01-20  280860  \n3      MOTO   2019-01-25  280860  \n4      MOTO   2019-01-27  280860  ",
      "text/html": "<div>\n<style scoped>\n    .dataframe tbody tr th:only-of-type {\n        vertical-align: middle;\n    }\n\n    .dataframe tbody tr th {\n        vertical-align: top;\n    }\n\n    .dataframe thead th {\n        text-align: right;\n    }\n</style>\n<table border=\"1\" class=\"dataframe\">\n  <thead>\n    <tr style=\"text-align: right;\">\n      <th></th>\n      <th>LATITUDE</th>\n      <th>LONGITUDE</th>\n      <th>CONSEQUENCIA</th>\n      <th>MUNICIPIO</th>\n      <th>VEICULO_1</th>\n      <th>VEICULO_2</th>\n      <th>DATA_DO_FATO</th>\n      <th>FROTA</th>\n    </tr>\n  </thead>\n  <tbody>\n    <tr>\n      <th>0</th>\n      <td>-8.762072</td>\n      <td>-63.843155</td>\n      <td>VÍTIMA NÃO FATAL</td>\n      <td>PORTO VELHO</td>\n      <td>VEÍCULO ÚNICO</td>\n      <td>MOTO</td>\n      <td>2019-02-01</td>\n      <td>280860</td>\n    </tr>\n    <tr>\n      <th>1</th>\n      <td>-8.806092</td>\n      <td>-63.884237</td>\n      <td>VÍTIMA NÃO FATAL</td>\n      <td>PORTO VELHO</td>\n      <td>VEÍCULO ÚNICO</td>\n      <td>MOTO</td>\n      <td>2019-01-20</td>\n      <td>280860</td>\n    </tr>\n    <tr>\n      <th>2</th>\n      <td>-8.738549</td>\n      <td>-63.862959</td>\n      <td>VÍTIMA NÃO FATAL</td>\n      <td>PORTO VELHO</td>\n      <td>VEÍCULO ÚNICO</td>\n      <td>MOTO</td>\n      <td>2019-01-20</td>\n      <td>280860</td>\n    </tr>\n    <tr>\n      <th>3</th>\n      <td>-8.774956</td>\n      <td>-63.892546</td>\n      <td>VÍTIMA NÃO FATAL</td>\n      <td>PORTO VELHO</td>\n      <td>VEÍCULO ÚNICO</td>\n      <td>MOTO</td>\n      <td>2019-01-25</td>\n      <td>280860</td>\n    </tr>\n    <tr>\n      <th>4</th>\n      <td>-8.710393</td>\n      <td>-63.985594</td>\n      <td>VÍTIMA NÃO FATAL</td>\n      <td>PORTO VELHO</td>\n      <td>VEÍCULO ÚNICO</td>\n      <td>MOTO</td>\n      <td>2019-01-27</td>\n      <td>280860</td>\n    </tr>\n  </tbody>\n</table>\n</div>"
     },
     "execution_count": 540,
     "metadata": {},
     "output_type": "execute_result"
    }
   ],
   "source": [
    "df.loc[:,'DATA_DO_FATO'] = pd.to_datetime(df['DATA_DO_FATO'])\n",
    "df.head(5)"
   ],
   "metadata": {
    "collapsed": false,
    "pycharm": {
     "name": "#%%\n"
    }
   }
  },
  {
   "cell_type": "markdown",
   "source": [
    "#### Tratando dados para gerar Geometria válida"
   ],
   "metadata": {
    "collapsed": false,
    "pycharm": {
     "name": "#%% md\n"
    }
   }
  },
  {
   "cell_type": "markdown",
   "source": [
    "##### 1. Procurar com dados com caracteres especiais"
   ],
   "metadata": {
    "collapsed": false,
    "pycharm": {
     "name": "#%% md\n"
    }
   }
  },
  {
   "cell_type": "code",
   "execution_count": 541,
   "outputs": [],
   "source": [
    "# Previnir que o LATLON tenha qualquer caracter especial OU 2 pontos OU 2 hífen\n",
    "Regex_Sem_Carac_Espec = r'[\\!\\\"\\#\\$%\\&\\'\\(\\)\\*\\+\\,\\/\\:\\;\\<\\=\\>\\?\\@\\[\\]\\^\\_\\`\\{\\|\\}\\~]+|[\\.]{2,}|[\\-]{2,}'"
   ],
   "metadata": {
    "collapsed": false,
    "pycharm": {
     "name": "#%%\n"
    }
   }
  },
  {
   "cell_type": "markdown",
   "source": [
    "##### 2. Corrigir esses dados utilizando regex"
   ],
   "metadata": {
    "collapsed": false,
    "pycharm": {
     "name": "#%% md\n"
    }
   }
  },
  {
   "cell_type": "code",
   "execution_count": 542,
   "outputs": [],
   "source": [
    "# Se tiver caracteres ou duplicações de caract. ...\n",
    "if df['LATITUDE'].str.contains(Regex_Sem_Carac_Espec).astype(bool).any():\n",
    "    # Pegar linhas que estão com problemas\n",
    "    dados_incorretos = df['LATITUDE'].loc[df['LATITUDE'].str.contains(Regex_Sem_Carac_Espec)]\n",
    "    # Consertar erros\n",
    "    dados_corretos = dados_incorretos.apply(lambda lat: sub(r'[^\\-\\d\\.]|(\\.)(?=\\.)|(\\-)(?=\\-)','', lat))\n",
    "    # Inserir dados corrigidos no DataFrame\n",
    "    df.loc[dados_corretos.index, ['LATITUDE']] = dados_corretos.to_frame()['LATITUDE']\n",
    "\n",
    "if df['LONGITUDE'].str.contains(Regex_Sem_Carac_Espec).astype(bool).any():\n",
    "    dados_incorretos = df['LONGITUDE'].loc[df['LONGITUDE'].str.contains(Regex_Sem_Carac_Espec)]\n",
    "    dados_corretos = dados_incorretos.apply(lambda lat: sub(r'[^\\-\\d\\.]|(\\.)(?=\\.)|(\\-)(?=\\-)','', lat))\n",
    "    df.loc[dados_corretos.index, ['LONGITUDE']] = dados_corretos.to_frame()['LONGITUDE']"
   ],
   "metadata": {
    "collapsed": false,
    "pycharm": {
     "name": "#%%\n"
    }
   }
  },
  {
   "cell_type": "markdown",
   "source": [
    "##### 3. Converter dados para float"
   ],
   "metadata": {
    "collapsed": false,
    "pycharm": {
     "name": "#%% md\n"
    }
   }
  },
  {
   "cell_type": "code",
   "execution_count": 543,
   "outputs": [],
   "source": [
    "df.loc[:, 'LATITUDE'] = pd.to_numeric(df['LATITUDE'], downcast='float')\n",
    "df.loc[:, 'LONGITUDE'] = pd.to_numeric(df['LONGITUDE'], downcast='float')"
   ],
   "metadata": {
    "collapsed": false,
    "pycharm": {
     "name": "#%%\n"
    }
   }
  },
  {
   "cell_type": "markdown",
   "source": [
    "##### 4. Gerar GeoDataFrame utilizando o construtor do GeoPandas"
   ],
   "metadata": {
    "collapsed": false,
    "pycharm": {
     "name": "#%% md\n"
    }
   }
  },
  {
   "cell_type": "code",
   "execution_count": 545,
   "outputs": [
    {
     "data": {
      "text/plain": "        CONSEQUENCIA    MUNICIPIO      VEICULO_1      VEICULO_2 DATA_DO_FATO  \\\n0   VÍTIMA NÃO FATAL  PORTO VELHO  VEÍCULO ÚNICO           MOTO   2019-02-01   \n1   VÍTIMA NÃO FATAL  PORTO VELHO  VEÍCULO ÚNICO           MOTO   2019-01-20   \n2   VÍTIMA NÃO FATAL  PORTO VELHO  VEÍCULO ÚNICO           MOTO   2019-01-20   \n3   VÍTIMA NÃO FATAL  PORTO VELHO  VEÍCULO ÚNICO           MOTO   2019-01-25   \n4   VÍTIMA NÃO FATAL  PORTO VELHO  VEÍCULO ÚNICO           MOTO   2019-01-27   \n5   VÍTIMA NÃO FATAL  PORTO VELHO  VEÍCULO ÚNICO           MOTO   2019-01-29   \n6   VÍTIMA NÃO FATAL  PORTO VELHO  VEÍCULO ÚNICO           MOTO   2019-01-31   \n9   VÍTIMA NÃO FATAL  PORTO VELHO           MOTO  VEÍCULO ÚNICO   2020-08-09   \n11  VÍTIMA NÃO FATAL  PORTO VELHO           MOTO  VEÍCULO ÚNICO   2020-06-10   \n12  VÍTIMA NÃO FATAL  PORTO VELHO           MOTO  VEÍCULO ÚNICO   2020-11-11   \n13  VÍTIMA NÃO FATAL  PORTO VELHO           MOTO  VEÍCULO ÚNICO   2020-11-15   \n14  VÍTIMA NÃO FATAL  PORTO VELHO           MOTO  VEÍCULO ÚNICO   2020-11-18   \n15  VÍTIMA NÃO FATAL  PORTO VELHO           MOTO  VEÍCULO ÚNICO   2020-11-21   \n16  VÍTIMA NÃO FATAL  PORTO VELHO           MOTO  VEÍCULO ÚNICO   2020-07-12   \n17  VÍTIMA NÃO FATAL  PORTO VELHO           MOTO  VEÍCULO ÚNICO   2019-10-08   \n18  VÍTIMA NÃO FATAL  PORTO VELHO           MOTO  VEÍCULO ÚNICO   2019-08-16   \n19  VÍTIMA NÃO FATAL  PORTO VELHO           MOTO  VEÍCULO ÚNICO   2019-08-20   \n20  VÍTIMA NÃO FATAL  PORTO VELHO           MOTO  VEÍCULO ÚNICO   2019-08-21   \n21  VÍTIMA NÃO FATAL  PORTO VELHO           MOTO  VEÍCULO ÚNICO   2019-08-25   \n22  VÍTIMA NÃO FATAL  PORTO VELHO           MOTO  VEÍCULO ÚNICO   2020-02-01   \n\n     FROTA                    geometry  \n0   280860  POINT (-63.84315 -8.76207)  \n1   280860  POINT (-63.88424 -8.80609)  \n2   280860  POINT (-63.86296 -8.73855)  \n3   280860  POINT (-63.89255 -8.77496)  \n4   280860  POINT (-63.98560 -8.71039)  \n5   280860  POINT (-63.84447 -8.76868)  \n6   280860  POINT (-63.84809 -8.75951)  \n9   280860  POINT (-63.83331 -8.79986)  \n11  280860  POINT (-63.85142 -8.76483)  \n12  280860  POINT (-63.82281 -8.77375)  \n13  280860  POINT (-63.82397 -8.75150)  \n14  280860  POINT (-63.86527 -8.79001)  \n15  280860  POINT (-63.81987 -8.75059)  \n16  280860  POINT (-63.84825 -8.74373)  \n17  280860  POINT (-63.85201 -8.75091)  \n18  280860  POINT (-63.83223 -8.76228)  \n19  280860  POINT (-63.86908 -8.76416)  \n20  280860  POINT (-63.83874 -8.77131)  \n21  280860  POINT (-63.84569 -8.77495)  \n22  280860  POINT (-63.87764 -8.78345)  ",
      "text/html": "<div>\n<style scoped>\n    .dataframe tbody tr th:only-of-type {\n        vertical-align: middle;\n    }\n\n    .dataframe tbody tr th {\n        vertical-align: top;\n    }\n\n    .dataframe thead th {\n        text-align: right;\n    }\n</style>\n<table border=\"1\" class=\"dataframe\">\n  <thead>\n    <tr style=\"text-align: right;\">\n      <th></th>\n      <th>CONSEQUENCIA</th>\n      <th>MUNICIPIO</th>\n      <th>VEICULO_1</th>\n      <th>VEICULO_2</th>\n      <th>DATA_DO_FATO</th>\n      <th>FROTA</th>\n      <th>geometry</th>\n    </tr>\n  </thead>\n  <tbody>\n    <tr>\n      <th>0</th>\n      <td>VÍTIMA NÃO FATAL</td>\n      <td>PORTO VELHO</td>\n      <td>VEÍCULO ÚNICO</td>\n      <td>MOTO</td>\n      <td>2019-02-01</td>\n      <td>280860</td>\n      <td>POINT (-63.84315 -8.76207)</td>\n    </tr>\n    <tr>\n      <th>1</th>\n      <td>VÍTIMA NÃO FATAL</td>\n      <td>PORTO VELHO</td>\n      <td>VEÍCULO ÚNICO</td>\n      <td>MOTO</td>\n      <td>2019-01-20</td>\n      <td>280860</td>\n      <td>POINT (-63.88424 -8.80609)</td>\n    </tr>\n    <tr>\n      <th>2</th>\n      <td>VÍTIMA NÃO FATAL</td>\n      <td>PORTO VELHO</td>\n      <td>VEÍCULO ÚNICO</td>\n      <td>MOTO</td>\n      <td>2019-01-20</td>\n      <td>280860</td>\n      <td>POINT (-63.86296 -8.73855)</td>\n    </tr>\n    <tr>\n      <th>3</th>\n      <td>VÍTIMA NÃO FATAL</td>\n      <td>PORTO VELHO</td>\n      <td>VEÍCULO ÚNICO</td>\n      <td>MOTO</td>\n      <td>2019-01-25</td>\n      <td>280860</td>\n      <td>POINT (-63.89255 -8.77496)</td>\n    </tr>\n    <tr>\n      <th>4</th>\n      <td>VÍTIMA NÃO FATAL</td>\n      <td>PORTO VELHO</td>\n      <td>VEÍCULO ÚNICO</td>\n      <td>MOTO</td>\n      <td>2019-01-27</td>\n      <td>280860</td>\n      <td>POINT (-63.98560 -8.71039)</td>\n    </tr>\n    <tr>\n      <th>5</th>\n      <td>VÍTIMA NÃO FATAL</td>\n      <td>PORTO VELHO</td>\n      <td>VEÍCULO ÚNICO</td>\n      <td>MOTO</td>\n      <td>2019-01-29</td>\n      <td>280860</td>\n      <td>POINT (-63.84447 -8.76868)</td>\n    </tr>\n    <tr>\n      <th>6</th>\n      <td>VÍTIMA NÃO FATAL</td>\n      <td>PORTO VELHO</td>\n      <td>VEÍCULO ÚNICO</td>\n      <td>MOTO</td>\n      <td>2019-01-31</td>\n      <td>280860</td>\n      <td>POINT (-63.84809 -8.75951)</td>\n    </tr>\n    <tr>\n      <th>9</th>\n      <td>VÍTIMA NÃO FATAL</td>\n      <td>PORTO VELHO</td>\n      <td>MOTO</td>\n      <td>VEÍCULO ÚNICO</td>\n      <td>2020-08-09</td>\n      <td>280860</td>\n      <td>POINT (-63.83331 -8.79986)</td>\n    </tr>\n    <tr>\n      <th>11</th>\n      <td>VÍTIMA NÃO FATAL</td>\n      <td>PORTO VELHO</td>\n      <td>MOTO</td>\n      <td>VEÍCULO ÚNICO</td>\n      <td>2020-06-10</td>\n      <td>280860</td>\n      <td>POINT (-63.85142 -8.76483)</td>\n    </tr>\n    <tr>\n      <th>12</th>\n      <td>VÍTIMA NÃO FATAL</td>\n      <td>PORTO VELHO</td>\n      <td>MOTO</td>\n      <td>VEÍCULO ÚNICO</td>\n      <td>2020-11-11</td>\n      <td>280860</td>\n      <td>POINT (-63.82281 -8.77375)</td>\n    </tr>\n    <tr>\n      <th>13</th>\n      <td>VÍTIMA NÃO FATAL</td>\n      <td>PORTO VELHO</td>\n      <td>MOTO</td>\n      <td>VEÍCULO ÚNICO</td>\n      <td>2020-11-15</td>\n      <td>280860</td>\n      <td>POINT (-63.82397 -8.75150)</td>\n    </tr>\n    <tr>\n      <th>14</th>\n      <td>VÍTIMA NÃO FATAL</td>\n      <td>PORTO VELHO</td>\n      <td>MOTO</td>\n      <td>VEÍCULO ÚNICO</td>\n      <td>2020-11-18</td>\n      <td>280860</td>\n      <td>POINT (-63.86527 -8.79001)</td>\n    </tr>\n    <tr>\n      <th>15</th>\n      <td>VÍTIMA NÃO FATAL</td>\n      <td>PORTO VELHO</td>\n      <td>MOTO</td>\n      <td>VEÍCULO ÚNICO</td>\n      <td>2020-11-21</td>\n      <td>280860</td>\n      <td>POINT (-63.81987 -8.75059)</td>\n    </tr>\n    <tr>\n      <th>16</th>\n      <td>VÍTIMA NÃO FATAL</td>\n      <td>PORTO VELHO</td>\n      <td>MOTO</td>\n      <td>VEÍCULO ÚNICO</td>\n      <td>2020-07-12</td>\n      <td>280860</td>\n      <td>POINT (-63.84825 -8.74373)</td>\n    </tr>\n    <tr>\n      <th>17</th>\n      <td>VÍTIMA NÃO FATAL</td>\n      <td>PORTO VELHO</td>\n      <td>MOTO</td>\n      <td>VEÍCULO ÚNICO</td>\n      <td>2019-10-08</td>\n      <td>280860</td>\n      <td>POINT (-63.85201 -8.75091)</td>\n    </tr>\n    <tr>\n      <th>18</th>\n      <td>VÍTIMA NÃO FATAL</td>\n      <td>PORTO VELHO</td>\n      <td>MOTO</td>\n      <td>VEÍCULO ÚNICO</td>\n      <td>2019-08-16</td>\n      <td>280860</td>\n      <td>POINT (-63.83223 -8.76228)</td>\n    </tr>\n    <tr>\n      <th>19</th>\n      <td>VÍTIMA NÃO FATAL</td>\n      <td>PORTO VELHO</td>\n      <td>MOTO</td>\n      <td>VEÍCULO ÚNICO</td>\n      <td>2019-08-20</td>\n      <td>280860</td>\n      <td>POINT (-63.86908 -8.76416)</td>\n    </tr>\n    <tr>\n      <th>20</th>\n      <td>VÍTIMA NÃO FATAL</td>\n      <td>PORTO VELHO</td>\n      <td>MOTO</td>\n      <td>VEÍCULO ÚNICO</td>\n      <td>2019-08-21</td>\n      <td>280860</td>\n      <td>POINT (-63.83874 -8.77131)</td>\n    </tr>\n    <tr>\n      <th>21</th>\n      <td>VÍTIMA NÃO FATAL</td>\n      <td>PORTO VELHO</td>\n      <td>MOTO</td>\n      <td>VEÍCULO ÚNICO</td>\n      <td>2019-08-25</td>\n      <td>280860</td>\n      <td>POINT (-63.84569 -8.77495)</td>\n    </tr>\n    <tr>\n      <th>22</th>\n      <td>VÍTIMA NÃO FATAL</td>\n      <td>PORTO VELHO</td>\n      <td>MOTO</td>\n      <td>VEÍCULO ÚNICO</td>\n      <td>2020-02-01</td>\n      <td>280860</td>\n      <td>POINT (-63.87764 -8.78345)</td>\n    </tr>\n  </tbody>\n</table>\n</div>"
     },
     "execution_count": 545,
     "metadata": {},
     "output_type": "execute_result"
    }
   ],
   "source": [
    "# Gerar um GeoDataFrame a partir do DataFrame utilizando as colunas LATLON\n",
    "gdf = gpd.GeoDataFrame(df, geometry=gpd.points_from_xy(df.LONGITUDE, df.LATITUDE), crs='EPSG:4674')\n",
    "# Não é mais necessários as colunas...\n",
    "gdf.drop(['LATITUDE', 'LONGITUDE'], axis=1, inplace=True)\n",
    "\n",
    "gdf.head(20)"
   ],
   "metadata": {
    "collapsed": false,
    "pycharm": {
     "name": "#%%\n"
    }
   }
  }
 ],
 "metadata": {
  "kernelspec": {
   "display_name": "Python 3",
   "language": "python",
   "name": "python3"
  },
  "language_info": {
   "codemirror_mode": {
    "name": "ipython",
    "version": 2
   },
   "file_extension": ".py",
   "mimetype": "text/x-python",
   "name": "python",
   "nbconvert_exporter": "python",
   "pygments_lexer": "ipython2",
   "version": "2.7.6"
  }
 },
 "nbformat": 4,
 "nbformat_minor": 0
}