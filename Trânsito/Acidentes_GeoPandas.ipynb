{
 "cells": [
  {
   "cell_type": "code",
   "execution_count": 16,
   "metadata": {
    "collapsed": true,
    "pycharm": {
     "name": "#%%\n"
    }
   },
   "outputs": [],
   "source": [
    "import geopandas as gpd\n",
    "import pandas as pd\n",
    "from json import load\n",
    "from requests import Session\n",
    "from os.path import exists\n",
    "from re import sub\n",
    "import warnings"
   ]
  },
  {
   "cell_type": "markdown",
   "source": [
    "## Preparação: Requisição dos dados da API do Observatório\n",
    "\n",
    "> Nota: Não é possível solicitar dados de vítima não fatal mais vítima fatal, pois retorna o código `http 500 - Internal Server Error` - Erro no tempo de execução. Será feito duas requisições separadas e inseridas em arquivos diferentes, e então feito a colagem em seguida."
   ],
   "metadata": {
    "collapsed": false,
    "pycharm": {
     "name": "#%% md\n"
    }
   }
  },
  {
   "cell_type": "code",
   "execution_count": 17,
   "outputs": [],
   "source": [
    "session = Session()\n",
    "cookie = {'chave':'lgpd'}\n",
    "\n",
    "if not exists('AcidentesdeTransitoNaoFatal.json'):\n",
    "    params_nao_fatal = {\"data\":\"[[\\\"Todos\\\"],[\\\"PORTO VELHO\\\"],[\\\"VÍTIMA NÃO FATAL\\\"],[\\\"Todos\\\"],[\\\"1/2019\\\"],[\\\"12/2020\\\"]]\",\n",
    "                        \"labels\": \"[\\\"Natureza_do_Acidente\\\",\\\"Municipio\\\",\\\"Consequencia\\\",\\\"Via_1\\\",\\\"Data_Inicial\\\",\\\"Data_Final\\\"]\"}\n",
    "\n",
    "    req = Session.post(session, url='http://observatorio.sepog.ro.gov.br/TransitoPerfil/GetGeoData', json=params_nao_fatal, cookies=cookie, stream=True)\n",
    "    with open('AcidentesdeTransitoNaoFatal.json', 'wb') as arq_acidentes:\n",
    "        arq_acidentes.write(req.content)\n",
    "\n",
    "if not exists('AcidentesdeTransitoFatal.json'):\n",
    "    params_fatal = {\"data\":\"[[\\\"Todos\\\"],[\\\"PORTO VELHO\\\"],[\\\"VÍTIMA FATAL\\\"],[\\\"Todos\\\"],[\\\"1/2019\\\"],[\\\"12/2020\\\"]]\",\n",
    "                    \"labels\": \"[\\\"Natureza_do_Acidente\\\",\\\"Municipio\\\",\\\"Consequencia\\\",\\\"Via_1\\\",\\\"Data_Inicial\\\",\\\"Data_Final\\\"]\"}\n",
    "\n",
    "    req = Session.post(session, url='http://observatorio.sepog.ro.gov.br/TransitoPerfil/GetGeoData',json=params_fatal,cookies=cookie, stream=True)\n",
    "    with open('AcidentesdeTransitoFatal.json', 'wb') as arq_acidentes:\n",
    "        arq_acidentes.write(req.content)\n",
    "\n",
    "del session\n",
    "del cookie"
   ],
   "metadata": {
    "collapsed": false,
    "pycharm": {
     "name": "#%%\n"
    }
   }
  },
  {
   "cell_type": "markdown",
   "source": [
    "## Primeiro passo: Normalização do JSON\n",
    "- Será normalizado usando um método do pandas: [json_normalize](https://pandas.pydata.org/pandas-docs/stable/reference/api/pandas.json_normalize.html)\n",
    "\n",
    "Formato padrão do dado:\n",
    "```\n",
    "{\n",
    "    \"<tipo de acidente>\": {\n",
    "        \"<id>\": {\n",
    "            \"LATITUDE\": <float>,\n",
    "            \"LONGITUDE\": <float>,\n",
    "            \"CONSEQUENCIA\": <string>,\n",
    "            \"MUNICIPIO\": <string>,\n",
    "            \"VEICULO_1\": <string>,\n",
    "            \"VEICULO_2\": <string>,\n",
    "            \"DATA_DO_FATO\": <datetime>,\n",
    "            \"FROTA\": <int>\n",
    "        }\n",
    "    }\n",
    "}\n",
    "```"
   ],
   "metadata": {
    "collapsed": false,
    "pycharm": {
     "name": "#%% md\n"
    }
   }
  },
  {
   "cell_type": "code",
   "execution_count": 18,
   "outputs": [
    {
     "data": {
      "text/plain": "       LATITUDE   LONGITUDE      CONSEQUENCIA    MUNICIPIO      VEICULO_1  \\\n0     -8.762072  -63.843155  VÍTIMA NÃO FATAL  PORTO VELHO  VEÍCULO ÚNICO   \n1     -8.806092  -63.884237  VÍTIMA NÃO FATAL  PORTO VELHO  VEÍCULO ÚNICO   \n2     -8.738549  -63.862959  VÍTIMA NÃO FATAL  PORTO VELHO  VEÍCULO ÚNICO   \n3     -8.774956  -63.892546  VÍTIMA NÃO FATAL  PORTO VELHO  VEÍCULO ÚNICO   \n4     -8.710393  -63.985594  VÍTIMA NÃO FATAL  PORTO VELHO  VEÍCULO ÚNICO   \n...         ...         ...               ...          ...            ...   \n9553  -8.800215  -63.795577  VÍTIMA NÃO FATAL  PORTO VELHO                  \n9554  -8.800483  -63.734232  VÍTIMA NÃO FATAL  PORTO VELHO                  \n9555  -9.158756  -64.193839  VÍTIMA NÃO FATAL  PORTO VELHO                  \n9556  -8.766685  -63.884052  VÍTIMA NÃO FATAL  PORTO VELHO                  \n9557  -8.741762  -63.940741  VÍTIMA NÃO FATAL  PORTO VELHO                  \n\n     VEICULO_2         DATA_DO_FATO   FROTA        ID  \n0         MOTO  02/01/2019 00:00:00  280860    701762  \n1         MOTO  20/01/2019 00:00:00  280860    669833  \n2         MOTO  20/01/2019 00:00:00  280860    733335  \n3         MOTO  25/01/2019 00:00:00  280860    660121  \n4         MOTO  27/01/2019 00:00:00  280860    663660  \n...        ...                  ...     ...       ...  \n9553            12/07/2020 00:00:00  280860  295089,0  \n9554            08/07/2020 00:00:00  280860  294235,0  \n9555            01/07/2020 00:00:00  280860  292932,0  \n9556            01/07/2020 00:00:00  280860  292934,0  \n9557            04/07/2020 00:00:00  280860  293514,0  \n\n[9558 rows x 9 columns]",
      "text/html": "<div>\n<style scoped>\n    .dataframe tbody tr th:only-of-type {\n        vertical-align: middle;\n    }\n\n    .dataframe tbody tr th {\n        vertical-align: top;\n    }\n\n    .dataframe thead th {\n        text-align: right;\n    }\n</style>\n<table border=\"1\" class=\"dataframe\">\n  <thead>\n    <tr style=\"text-align: right;\">\n      <th></th>\n      <th>LATITUDE</th>\n      <th>LONGITUDE</th>\n      <th>CONSEQUENCIA</th>\n      <th>MUNICIPIO</th>\n      <th>VEICULO_1</th>\n      <th>VEICULO_2</th>\n      <th>DATA_DO_FATO</th>\n      <th>FROTA</th>\n      <th>ID</th>\n    </tr>\n  </thead>\n  <tbody>\n    <tr>\n      <th>0</th>\n      <td>-8.762072</td>\n      <td>-63.843155</td>\n      <td>VÍTIMA NÃO FATAL</td>\n      <td>PORTO VELHO</td>\n      <td>VEÍCULO ÚNICO</td>\n      <td>MOTO</td>\n      <td>02/01/2019 00:00:00</td>\n      <td>280860</td>\n      <td>701762</td>\n    </tr>\n    <tr>\n      <th>1</th>\n      <td>-8.806092</td>\n      <td>-63.884237</td>\n      <td>VÍTIMA NÃO FATAL</td>\n      <td>PORTO VELHO</td>\n      <td>VEÍCULO ÚNICO</td>\n      <td>MOTO</td>\n      <td>20/01/2019 00:00:00</td>\n      <td>280860</td>\n      <td>669833</td>\n    </tr>\n    <tr>\n      <th>2</th>\n      <td>-8.738549</td>\n      <td>-63.862959</td>\n      <td>VÍTIMA NÃO FATAL</td>\n      <td>PORTO VELHO</td>\n      <td>VEÍCULO ÚNICO</td>\n      <td>MOTO</td>\n      <td>20/01/2019 00:00:00</td>\n      <td>280860</td>\n      <td>733335</td>\n    </tr>\n    <tr>\n      <th>3</th>\n      <td>-8.774956</td>\n      <td>-63.892546</td>\n      <td>VÍTIMA NÃO FATAL</td>\n      <td>PORTO VELHO</td>\n      <td>VEÍCULO ÚNICO</td>\n      <td>MOTO</td>\n      <td>25/01/2019 00:00:00</td>\n      <td>280860</td>\n      <td>660121</td>\n    </tr>\n    <tr>\n      <th>4</th>\n      <td>-8.710393</td>\n      <td>-63.985594</td>\n      <td>VÍTIMA NÃO FATAL</td>\n      <td>PORTO VELHO</td>\n      <td>VEÍCULO ÚNICO</td>\n      <td>MOTO</td>\n      <td>27/01/2019 00:00:00</td>\n      <td>280860</td>\n      <td>663660</td>\n    </tr>\n    <tr>\n      <th>...</th>\n      <td>...</td>\n      <td>...</td>\n      <td>...</td>\n      <td>...</td>\n      <td>...</td>\n      <td>...</td>\n      <td>...</td>\n      <td>...</td>\n      <td>...</td>\n    </tr>\n    <tr>\n      <th>9553</th>\n      <td>-8.800215</td>\n      <td>-63.795577</td>\n      <td>VÍTIMA NÃO FATAL</td>\n      <td>PORTO VELHO</td>\n      <td></td>\n      <td></td>\n      <td>12/07/2020 00:00:00</td>\n      <td>280860</td>\n      <td>295089,0</td>\n    </tr>\n    <tr>\n      <th>9554</th>\n      <td>-8.800483</td>\n      <td>-63.734232</td>\n      <td>VÍTIMA NÃO FATAL</td>\n      <td>PORTO VELHO</td>\n      <td></td>\n      <td></td>\n      <td>08/07/2020 00:00:00</td>\n      <td>280860</td>\n      <td>294235,0</td>\n    </tr>\n    <tr>\n      <th>9555</th>\n      <td>-9.158756</td>\n      <td>-64.193839</td>\n      <td>VÍTIMA NÃO FATAL</td>\n      <td>PORTO VELHO</td>\n      <td></td>\n      <td></td>\n      <td>01/07/2020 00:00:00</td>\n      <td>280860</td>\n      <td>292932,0</td>\n    </tr>\n    <tr>\n      <th>9556</th>\n      <td>-8.766685</td>\n      <td>-63.884052</td>\n      <td>VÍTIMA NÃO FATAL</td>\n      <td>PORTO VELHO</td>\n      <td></td>\n      <td></td>\n      <td>01/07/2020 00:00:00</td>\n      <td>280860</td>\n      <td>292934,0</td>\n    </tr>\n    <tr>\n      <th>9557</th>\n      <td>-8.741762</td>\n      <td>-63.940741</td>\n      <td>VÍTIMA NÃO FATAL</td>\n      <td>PORTO VELHO</td>\n      <td></td>\n      <td></td>\n      <td>04/07/2020 00:00:00</td>\n      <td>280860</td>\n      <td>293514,0</td>\n    </tr>\n  </tbody>\n</table>\n<p>9558 rows × 9 columns</p>\n</div>"
     },
     "execution_count": 18,
     "metadata": {},
     "output_type": "execute_result"
    }
   ],
   "source": [
    "with open('AcidentesdeTransitoNaoFatal.json', 'r') as arq_acidentes:\n",
    "    acidentes = load(arq_acidentes)\n",
    "\n",
    "    df = pd.DataFrame() # Crio um DataFrame vazio onde irá reunir os dados normalizados\n",
    "\n",
    "    for tipo_acidente, acidente in acidentes.items(): # Para cada tipo de acidente ...\n",
    "        for id_, informacoes in acidente.items(): # Para cada item do tipo de acidente...\n",
    "            informacoes.update({'ID':id_})\n",
    "            df_items = pd.json_normalize(informacoes)\n",
    "            df = pd.concat((df, df_items), ignore_index=True)\n",
    "df"
   ],
   "metadata": {
    "collapsed": false,
    "pycharm": {
     "name": "#%%\n"
    }
   }
  },
  {
   "cell_type": "code",
   "execution_count": 19,
   "outputs": [
    {
     "data": {
      "text/plain": "       LATITUDE   LONGITUDE      CONSEQUENCIA    MUNICIPIO      VEICULO_1  \\\n0     -8.762072  -63.843155  VÍTIMA NÃO FATAL  PORTO VELHO  VEÍCULO ÚNICO   \n1     -8.806092  -63.884237  VÍTIMA NÃO FATAL  PORTO VELHO  VEÍCULO ÚNICO   \n2     -8.738549  -63.862959  VÍTIMA NÃO FATAL  PORTO VELHO  VEÍCULO ÚNICO   \n3     -8.774956  -63.892546  VÍTIMA NÃO FATAL  PORTO VELHO  VEÍCULO ÚNICO   \n4     -8.710393  -63.985594  VÍTIMA NÃO FATAL  PORTO VELHO  VEÍCULO ÚNICO   \n...         ...         ...               ...          ...            ...   \n9813  -9.347602  -64.644781      VÍTIMA FATAL  PORTO VELHO           MOTO   \n9814  -8.773548  -63.821836      VÍTIMA FATAL  PORTO VELHO           MOTO   \n9815  -9.750465  -66.618236      VÍTIMA FATAL  PORTO VELHO       CAMINHÃO   \n9816  -8.739714  -63.932140      VÍTIMA FATAL  PORTO VELHO                  \n9817  -9.750465  -66.618236      VÍTIMA FATAL  PORTO VELHO       CAMINHÃO   \n\n          VEICULO_2         DATA_DO_FATO   FROTA         ID  \n0              MOTO  02/01/2019 00:00:00  280860     701762  \n1              MOTO  20/01/2019 00:00:00  280860     669833  \n2              MOTO  20/01/2019 00:00:00  280860     733335  \n3              MOTO  25/01/2019 00:00:00  280860     660121  \n4              MOTO  27/01/2019 00:00:00  280860     663660  \n...             ...                  ...     ...        ...  \n9813  VEÍCULO ÚNICO  04/02/2020 00:00:00  280860   267141,0  \n9814  VEÍCULO ÚNICO  04/05/2020 00:00:00  280860  1029466,0  \n9815  VEÍCULO ÚNICO  28/08/2019 00:00:00  280860   154501,0  \n9816                 04/10/2020 00:00:00  280860   312139,0  \n9817  VEÍCULO ÚNICO  28/08/2019 00:00:00  280860     154501  \n\n[9818 rows x 9 columns]",
      "text/html": "<div>\n<style scoped>\n    .dataframe tbody tr th:only-of-type {\n        vertical-align: middle;\n    }\n\n    .dataframe tbody tr th {\n        vertical-align: top;\n    }\n\n    .dataframe thead th {\n        text-align: right;\n    }\n</style>\n<table border=\"1\" class=\"dataframe\">\n  <thead>\n    <tr style=\"text-align: right;\">\n      <th></th>\n      <th>LATITUDE</th>\n      <th>LONGITUDE</th>\n      <th>CONSEQUENCIA</th>\n      <th>MUNICIPIO</th>\n      <th>VEICULO_1</th>\n      <th>VEICULO_2</th>\n      <th>DATA_DO_FATO</th>\n      <th>FROTA</th>\n      <th>ID</th>\n    </tr>\n  </thead>\n  <tbody>\n    <tr>\n      <th>0</th>\n      <td>-8.762072</td>\n      <td>-63.843155</td>\n      <td>VÍTIMA NÃO FATAL</td>\n      <td>PORTO VELHO</td>\n      <td>VEÍCULO ÚNICO</td>\n      <td>MOTO</td>\n      <td>02/01/2019 00:00:00</td>\n      <td>280860</td>\n      <td>701762</td>\n    </tr>\n    <tr>\n      <th>1</th>\n      <td>-8.806092</td>\n      <td>-63.884237</td>\n      <td>VÍTIMA NÃO FATAL</td>\n      <td>PORTO VELHO</td>\n      <td>VEÍCULO ÚNICO</td>\n      <td>MOTO</td>\n      <td>20/01/2019 00:00:00</td>\n      <td>280860</td>\n      <td>669833</td>\n    </tr>\n    <tr>\n      <th>2</th>\n      <td>-8.738549</td>\n      <td>-63.862959</td>\n      <td>VÍTIMA NÃO FATAL</td>\n      <td>PORTO VELHO</td>\n      <td>VEÍCULO ÚNICO</td>\n      <td>MOTO</td>\n      <td>20/01/2019 00:00:00</td>\n      <td>280860</td>\n      <td>733335</td>\n    </tr>\n    <tr>\n      <th>3</th>\n      <td>-8.774956</td>\n      <td>-63.892546</td>\n      <td>VÍTIMA NÃO FATAL</td>\n      <td>PORTO VELHO</td>\n      <td>VEÍCULO ÚNICO</td>\n      <td>MOTO</td>\n      <td>25/01/2019 00:00:00</td>\n      <td>280860</td>\n      <td>660121</td>\n    </tr>\n    <tr>\n      <th>4</th>\n      <td>-8.710393</td>\n      <td>-63.985594</td>\n      <td>VÍTIMA NÃO FATAL</td>\n      <td>PORTO VELHO</td>\n      <td>VEÍCULO ÚNICO</td>\n      <td>MOTO</td>\n      <td>27/01/2019 00:00:00</td>\n      <td>280860</td>\n      <td>663660</td>\n    </tr>\n    <tr>\n      <th>...</th>\n      <td>...</td>\n      <td>...</td>\n      <td>...</td>\n      <td>...</td>\n      <td>...</td>\n      <td>...</td>\n      <td>...</td>\n      <td>...</td>\n      <td>...</td>\n    </tr>\n    <tr>\n      <th>9813</th>\n      <td>-9.347602</td>\n      <td>-64.644781</td>\n      <td>VÍTIMA FATAL</td>\n      <td>PORTO VELHO</td>\n      <td>MOTO</td>\n      <td>VEÍCULO ÚNICO</td>\n      <td>04/02/2020 00:00:00</td>\n      <td>280860</td>\n      <td>267141,0</td>\n    </tr>\n    <tr>\n      <th>9814</th>\n      <td>-8.773548</td>\n      <td>-63.821836</td>\n      <td>VÍTIMA FATAL</td>\n      <td>PORTO VELHO</td>\n      <td>MOTO</td>\n      <td>VEÍCULO ÚNICO</td>\n      <td>04/05/2020 00:00:00</td>\n      <td>280860</td>\n      <td>1029466,0</td>\n    </tr>\n    <tr>\n      <th>9815</th>\n      <td>-9.750465</td>\n      <td>-66.618236</td>\n      <td>VÍTIMA FATAL</td>\n      <td>PORTO VELHO</td>\n      <td>CAMINHÃO</td>\n      <td>VEÍCULO ÚNICO</td>\n      <td>28/08/2019 00:00:00</td>\n      <td>280860</td>\n      <td>154501,0</td>\n    </tr>\n    <tr>\n      <th>9816</th>\n      <td>-8.739714</td>\n      <td>-63.932140</td>\n      <td>VÍTIMA FATAL</td>\n      <td>PORTO VELHO</td>\n      <td></td>\n      <td></td>\n      <td>04/10/2020 00:00:00</td>\n      <td>280860</td>\n      <td>312139,0</td>\n    </tr>\n    <tr>\n      <th>9817</th>\n      <td>-9.750465</td>\n      <td>-66.618236</td>\n      <td>VÍTIMA FATAL</td>\n      <td>PORTO VELHO</td>\n      <td>CAMINHÃO</td>\n      <td>VEÍCULO ÚNICO</td>\n      <td>28/08/2019 00:00:00</td>\n      <td>280860</td>\n      <td>154501</td>\n    </tr>\n  </tbody>\n</table>\n<p>9818 rows × 9 columns</p>\n</div>"
     },
     "execution_count": 19,
     "metadata": {},
     "output_type": "execute_result"
    }
   ],
   "source": [
    "with open('AcidentesdeTransitoFatal.json', 'r') as arq_acidentes:\n",
    "    acidentes = load(arq_acidentes)\n",
    "\n",
    "    # Mesma lógica para este DF\n",
    "    for tipo_acidente, acidente in acidentes.items():\n",
    "        for id_, informacoes in acidente.items():\n",
    "            informacoes.update({'ID':id_})\n",
    "            df_items = pd.json_normalize(informacoes)\n",
    "            df = pd.concat((df, df_items), ignore_index=True) # Como o DF já existe, utilizo ele para a inserção.\n",
    "df"
   ],
   "metadata": {
    "collapsed": false,
    "pycharm": {
     "name": "#%%\n"
    }
   }
  },
  {
   "cell_type": "markdown",
   "source": [
    "## Segundo passo: Limpeza dos dados\n",
    "- Retirar números após a virgula + a virgula do ID\n",
    "- Excluir dados sem LATLON\n",
    "- Tratando dados LATLON para gerar Geometria válida\n",
    "- Substituir valores vazios das colunas VEICULO_1 e VEICULO_2 com `NÃO INFORMADO`"
   ],
   "metadata": {
    "collapsed": false,
    "pycharm": {
     "name": "#%% md\n"
    }
   }
  },
  {
   "cell_type": "markdown",
   "source": [
    "#### Removendo a virgula mais números após"
   ],
   "metadata": {
    "collapsed": false,
    "pycharm": {
     "name": "#%% md\n"
    }
   }
  },
  {
   "cell_type": "code",
   "execution_count": 20,
   "outputs": [],
   "source": [
    "# Se tiver algum id com virgula mais qualquer outra coisa depois\n",
    "if df['ID'].str.contains(r'\\d,.*?').astype(bool).any():\n",
    "    dados_incorretos = df['ID'].loc[df['ID'].str.contains(r'\\d,.*?')]\n",
    "    # Para cada id, selec. da vírgula para frente e apague\n",
    "    dados_corretos = dados_incorretos.apply(lambda id_: sub(r'(?=,).+','', id_))\n",
    "    # Inserir dados corrigidos no DataFrame\n",
    "    df.loc[dados_corretos.index, ['ID']] = dados_corretos.to_frame()['ID']"
   ],
   "metadata": {
    "collapsed": false,
    "pycharm": {
     "name": "#%%\n"
    }
   }
  },
  {
   "cell_type": "markdown",
   "source": [
    "#### Remover dados que estão sem geo"
   ],
   "metadata": {
    "collapsed": false,
    "pycharm": {
     "name": "#%% md\n"
    }
   }
  },
  {
   "cell_type": "code",
   "execution_count": 21,
   "outputs": [
    {
     "data": {
      "text/plain": "       LATITUDE   LONGITUDE      CONSEQUENCIA    MUNICIPIO      VEICULO_1  \\\n0     -8.762072  -63.843155  VÍTIMA NÃO FATAL  PORTO VELHO  VEÍCULO ÚNICO   \n1     -8.806092  -63.884237  VÍTIMA NÃO FATAL  PORTO VELHO  VEÍCULO ÚNICO   \n2     -8.738549  -63.862959  VÍTIMA NÃO FATAL  PORTO VELHO  VEÍCULO ÚNICO   \n3     -8.774956  -63.892546  VÍTIMA NÃO FATAL  PORTO VELHO  VEÍCULO ÚNICO   \n4     -8.710393  -63.985594  VÍTIMA NÃO FATAL  PORTO VELHO  VEÍCULO ÚNICO   \n...         ...         ...               ...          ...            ...   \n9813  -9.347602  -64.644781      VÍTIMA FATAL  PORTO VELHO           MOTO   \n9814  -8.773548  -63.821836      VÍTIMA FATAL  PORTO VELHO           MOTO   \n9815  -9.750465  -66.618236      VÍTIMA FATAL  PORTO VELHO       CAMINHÃO   \n9816  -8.739714  -63.932140      VÍTIMA FATAL  PORTO VELHO                  \n9817  -9.750465  -66.618236      VÍTIMA FATAL  PORTO VELHO       CAMINHÃO   \n\n          VEICULO_2         DATA_DO_FATO   FROTA       ID  \n0              MOTO  02/01/2019 00:00:00  280860   701762  \n1              MOTO  20/01/2019 00:00:00  280860   669833  \n2              MOTO  20/01/2019 00:00:00  280860   733335  \n3              MOTO  25/01/2019 00:00:00  280860   660121  \n4              MOTO  27/01/2019 00:00:00  280860   663660  \n...             ...                  ...     ...      ...  \n9813  VEÍCULO ÚNICO  04/02/2020 00:00:00  280860   267141  \n9814  VEÍCULO ÚNICO  04/05/2020 00:00:00  280860  1029466  \n9815  VEÍCULO ÚNICO  28/08/2019 00:00:00  280860   154501  \n9816                 04/10/2020 00:00:00  280860   312139  \n9817  VEÍCULO ÚNICO  28/08/2019 00:00:00  280860   154501  \n\n[9339 rows x 9 columns]",
      "text/html": "<div>\n<style scoped>\n    .dataframe tbody tr th:only-of-type {\n        vertical-align: middle;\n    }\n\n    .dataframe tbody tr th {\n        vertical-align: top;\n    }\n\n    .dataframe thead th {\n        text-align: right;\n    }\n</style>\n<table border=\"1\" class=\"dataframe\">\n  <thead>\n    <tr style=\"text-align: right;\">\n      <th></th>\n      <th>LATITUDE</th>\n      <th>LONGITUDE</th>\n      <th>CONSEQUENCIA</th>\n      <th>MUNICIPIO</th>\n      <th>VEICULO_1</th>\n      <th>VEICULO_2</th>\n      <th>DATA_DO_FATO</th>\n      <th>FROTA</th>\n      <th>ID</th>\n    </tr>\n  </thead>\n  <tbody>\n    <tr>\n      <th>0</th>\n      <td>-8.762072</td>\n      <td>-63.843155</td>\n      <td>VÍTIMA NÃO FATAL</td>\n      <td>PORTO VELHO</td>\n      <td>VEÍCULO ÚNICO</td>\n      <td>MOTO</td>\n      <td>02/01/2019 00:00:00</td>\n      <td>280860</td>\n      <td>701762</td>\n    </tr>\n    <tr>\n      <th>1</th>\n      <td>-8.806092</td>\n      <td>-63.884237</td>\n      <td>VÍTIMA NÃO FATAL</td>\n      <td>PORTO VELHO</td>\n      <td>VEÍCULO ÚNICO</td>\n      <td>MOTO</td>\n      <td>20/01/2019 00:00:00</td>\n      <td>280860</td>\n      <td>669833</td>\n    </tr>\n    <tr>\n      <th>2</th>\n      <td>-8.738549</td>\n      <td>-63.862959</td>\n      <td>VÍTIMA NÃO FATAL</td>\n      <td>PORTO VELHO</td>\n      <td>VEÍCULO ÚNICO</td>\n      <td>MOTO</td>\n      <td>20/01/2019 00:00:00</td>\n      <td>280860</td>\n      <td>733335</td>\n    </tr>\n    <tr>\n      <th>3</th>\n      <td>-8.774956</td>\n      <td>-63.892546</td>\n      <td>VÍTIMA NÃO FATAL</td>\n      <td>PORTO VELHO</td>\n      <td>VEÍCULO ÚNICO</td>\n      <td>MOTO</td>\n      <td>25/01/2019 00:00:00</td>\n      <td>280860</td>\n      <td>660121</td>\n    </tr>\n    <tr>\n      <th>4</th>\n      <td>-8.710393</td>\n      <td>-63.985594</td>\n      <td>VÍTIMA NÃO FATAL</td>\n      <td>PORTO VELHO</td>\n      <td>VEÍCULO ÚNICO</td>\n      <td>MOTO</td>\n      <td>27/01/2019 00:00:00</td>\n      <td>280860</td>\n      <td>663660</td>\n    </tr>\n    <tr>\n      <th>...</th>\n      <td>...</td>\n      <td>...</td>\n      <td>...</td>\n      <td>...</td>\n      <td>...</td>\n      <td>...</td>\n      <td>...</td>\n      <td>...</td>\n      <td>...</td>\n    </tr>\n    <tr>\n      <th>9813</th>\n      <td>-9.347602</td>\n      <td>-64.644781</td>\n      <td>VÍTIMA FATAL</td>\n      <td>PORTO VELHO</td>\n      <td>MOTO</td>\n      <td>VEÍCULO ÚNICO</td>\n      <td>04/02/2020 00:00:00</td>\n      <td>280860</td>\n      <td>267141</td>\n    </tr>\n    <tr>\n      <th>9814</th>\n      <td>-8.773548</td>\n      <td>-63.821836</td>\n      <td>VÍTIMA FATAL</td>\n      <td>PORTO VELHO</td>\n      <td>MOTO</td>\n      <td>VEÍCULO ÚNICO</td>\n      <td>04/05/2020 00:00:00</td>\n      <td>280860</td>\n      <td>1029466</td>\n    </tr>\n    <tr>\n      <th>9815</th>\n      <td>-9.750465</td>\n      <td>-66.618236</td>\n      <td>VÍTIMA FATAL</td>\n      <td>PORTO VELHO</td>\n      <td>CAMINHÃO</td>\n      <td>VEÍCULO ÚNICO</td>\n      <td>28/08/2019 00:00:00</td>\n      <td>280860</td>\n      <td>154501</td>\n    </tr>\n    <tr>\n      <th>9816</th>\n      <td>-8.739714</td>\n      <td>-63.932140</td>\n      <td>VÍTIMA FATAL</td>\n      <td>PORTO VELHO</td>\n      <td></td>\n      <td></td>\n      <td>04/10/2020 00:00:00</td>\n      <td>280860</td>\n      <td>312139</td>\n    </tr>\n    <tr>\n      <th>9817</th>\n      <td>-9.750465</td>\n      <td>-66.618236</td>\n      <td>VÍTIMA FATAL</td>\n      <td>PORTO VELHO</td>\n      <td>CAMINHÃO</td>\n      <td>VEÍCULO ÚNICO</td>\n      <td>28/08/2019 00:00:00</td>\n      <td>280860</td>\n      <td>154501</td>\n    </tr>\n  </tbody>\n</table>\n<p>9339 rows × 9 columns</p>\n</div>"
     },
     "execution_count": 21,
     "metadata": {},
     "output_type": "execute_result"
    }
   ],
   "source": [
    "df.drop(df.loc[(df.LATITUDE == \"SEM GEO\") | (df.LONGITUDE == \"SEM GEO\")].index, inplace=True)\n",
    "df"
   ],
   "metadata": {
    "collapsed": false,
    "pycharm": {
     "name": "#%%\n"
    }
   }
  },
  {
   "cell_type": "markdown",
   "source": [
    "#### Tratando dados para gerar Geometria válida"
   ],
   "metadata": {
    "collapsed": false,
    "pycharm": {
     "name": "#%% md\n"
    }
   }
  },
  {
   "cell_type": "markdown",
   "source": [
    "##### 1. Procurar dados com caracteres especiais"
   ],
   "metadata": {
    "collapsed": false,
    "pycharm": {
     "name": "#%% md\n"
    }
   }
  },
  {
   "cell_type": "code",
   "execution_count": 22,
   "outputs": [],
   "source": [
    "# Previnir que o LATLON tenha qualquer caracter especial OU 2 pontos OU 2 hífen\n",
    "Regex_Sem_Carac_Espec = r'[\\!\\\"\\#\\$%\\&\\'\\(\\)\\*\\+\\,\\/\\:\\;\\<\\=\\>\\?\\@\\[\\]\\^\\_\\`\\{\\|\\}\\~]+|[\\.]{2,}|[\\-]{2,}'"
   ],
   "metadata": {
    "collapsed": false,
    "pycharm": {
     "name": "#%%\n"
    }
   }
  },
  {
   "cell_type": "markdown",
   "source": [
    "##### 2. Corrigir esses dados utilizando regex"
   ],
   "metadata": {
    "collapsed": false,
    "pycharm": {
     "name": "#%% md\n"
    }
   }
  },
  {
   "cell_type": "code",
   "execution_count": 23,
   "outputs": [],
   "source": [
    "# Se tiver caracteres ou duplicações de caract. ...\n",
    "if df['LATITUDE'].str.contains(Regex_Sem_Carac_Espec).astype(bool).any():\n",
    "    # Pegar linhas que estão com problemas\n",
    "    dados_incorretos = df['LATITUDE'].loc[df['LATITUDE'].str.contains(Regex_Sem_Carac_Espec)]\n",
    "    # Consertar erros\n",
    "    dados_corretos = dados_incorretos.apply(lambda lat: sub(r'[^\\-\\d\\.]|(\\.)(?=\\.)|(\\-)(?=\\-)','', lat))\n",
    "    # Inserir dados corrigidos no DataFrame\n",
    "    df.loc[dados_corretos.index, ['LATITUDE']] = dados_corretos.to_frame()['LATITUDE']\n",
    "\n",
    "if df['LONGITUDE'].str.contains(Regex_Sem_Carac_Espec).astype(bool).any():\n",
    "    dados_incorretos = df['LONGITUDE'].loc[df['LONGITUDE'].str.contains(Regex_Sem_Carac_Espec)]\n",
    "    dados_corretos = dados_incorretos.apply(lambda lat: sub(r'[^\\-\\d\\.]|(\\.)(?=\\.)|(\\-)(?=\\-)','', lat))\n",
    "    df.loc[dados_corretos.index, ['LONGITUDE']] = dados_corretos.to_frame()['LONGITUDE']"
   ],
   "metadata": {
    "collapsed": false,
    "pycharm": {
     "name": "#%%\n"
    }
   }
  },
  {
   "cell_type": "markdown",
   "source": [],
   "metadata": {
    "collapsed": false,
    "pycharm": {
     "name": "#%% md\n"
    }
   }
  },
  {
   "cell_type": "markdown",
   "source": [
    "#### Substituir dados vazios com `NÃO INFORMADO`"
   ],
   "metadata": {
    "collapsed": false,
    "pycharm": {
     "name": "#%% md\n"
    }
   }
  },
  {
   "cell_type": "code",
   "execution_count": 24,
   "outputs": [],
   "source": [
    "# Será utilizado o NÃO INFORMADO pois já existe no dado original, irei manter o padrão\n",
    "\n",
    "# Selecione as tuplas da coluna VEICULO_1 que tenham a condição verdadeira e substitua com 'NÃO INFOMADO'\n",
    "df.loc[df.VEICULO_1 == '', 'VEICULO_1'] = 'NÃO INFORMADO'\n",
    "df.loc[df.VEICULO_2 == '', 'VEICULO_2'] = 'NÃO INFORMADO'"
   ],
   "metadata": {
    "collapsed": false,
    "pycharm": {
     "name": "#%%\n"
    }
   }
  },
  {
   "cell_type": "markdown",
   "source": [
    "### Terceiro Passo: Converção de dados e criar GeoDataFrame\n",
    "- Mudar tipo de dado da coluna DATA_DO_FATO para `datetime`\n",
    "- Mudar tipo de dado das colunas LATITUDE E LONGITUDE para `float`\n",
    "- Mudar tipo de dado da coluna ID para `int`\n",
    "- Gerar um `GeoDataFrame` válido a partir do `DataFrame`"
   ],
   "metadata": {
    "collapsed": false,
    "pycharm": {
     "name": "#%% md\n"
    }
   }
  },
  {
   "cell_type": "markdown",
   "source": [
    "#### Convertendo coluna DATA_DO_FATO para datetime"
   ],
   "metadata": {
    "collapsed": false,
    "pycharm": {
     "name": "#%% md\n"
    }
   }
  },
  {
   "cell_type": "code",
   "execution_count": 25,
   "outputs": [],
   "source": [
    "df.loc[:,'DATA_DO_FATO'] = pd.to_datetime(df['DATA_DO_FATO'])"
   ],
   "metadata": {
    "collapsed": false,
    "pycharm": {
     "name": "#%%\n"
    }
   }
  },
  {
   "cell_type": "markdown",
   "source": [
    "#### Convertendo colunas LATITUDE e LONGITUDE para float"
   ],
   "metadata": {
    "collapsed": false,
    "pycharm": {
     "name": "#%% md\n"
    }
   }
  },
  {
   "cell_type": "code",
   "execution_count": 26,
   "outputs": [],
   "source": [
    "df.loc[:, 'LATITUDE'] = pd.to_numeric(df['LATITUDE'], downcast='float')\n",
    "df.loc[:, 'LONGITUDE'] = pd.to_numeric(df['LONGITUDE'], downcast='float')"
   ],
   "metadata": {
    "collapsed": false,
    "pycharm": {
     "name": "#%%\n"
    }
   }
  },
  {
   "cell_type": "markdown",
   "source": [
    "#### Convertendo coluna ID para int"
   ],
   "metadata": {
    "collapsed": false,
    "pycharm": {
     "name": "#%% md\n"
    }
   }
  },
  {
   "cell_type": "code",
   "execution_count": 27,
   "outputs": [],
   "source": [
    "df.loc[:,'ID'] = pd.to_numeric(df['ID'], downcast='signed')"
   ],
   "metadata": {
    "collapsed": false,
    "pycharm": {
     "name": "#%%\n"
    }
   }
  },
  {
   "cell_type": "markdown",
   "source": [
    "#### Verificar se as conversões estão corretas"
   ],
   "metadata": {
    "collapsed": false,
    "pycharm": {
     "name": "#%% md\n"
    }
   }
  },
  {
   "cell_type": "code",
   "execution_count": 28,
   "outputs": [
    {
     "data": {
      "text/plain": "LATITUDE               float32\nLONGITUDE              float32\nCONSEQUENCIA            object\nMUNICIPIO               object\nVEICULO_1               object\nVEICULO_2               object\nDATA_DO_FATO    datetime64[ns]\nFROTA                   object\nID                       int32\ndtype: object"
     },
     "execution_count": 28,
     "metadata": {},
     "output_type": "execute_result"
    }
   ],
   "source": [
    "df.dtypes"
   ],
   "metadata": {
    "collapsed": false,
    "pycharm": {
     "name": "#%%\n"
    }
   }
  },
  {
   "cell_type": "markdown",
   "source": [
    "#### Gerar `GeoDataFrame` utilizando o construtor do GeoPandas"
   ],
   "metadata": {
    "collapsed": false,
    "pycharm": {
     "name": "#%% md\n"
    }
   }
  },
  {
   "cell_type": "code",
   "execution_count": 29,
   "outputs": [
    {
     "data": {
      "text/plain": "        CONSEQUENCIA    MUNICIPIO      VEICULO_1      VEICULO_2 DATA_DO_FATO  \\\n0   VÍTIMA NÃO FATAL  PORTO VELHO  VEÍCULO ÚNICO           MOTO   2019-02-01   \n1   VÍTIMA NÃO FATAL  PORTO VELHO  VEÍCULO ÚNICO           MOTO   2019-01-20   \n2   VÍTIMA NÃO FATAL  PORTO VELHO  VEÍCULO ÚNICO           MOTO   2019-01-20   \n3   VÍTIMA NÃO FATAL  PORTO VELHO  VEÍCULO ÚNICO           MOTO   2019-01-25   \n4   VÍTIMA NÃO FATAL  PORTO VELHO  VEÍCULO ÚNICO           MOTO   2019-01-27   \n5   VÍTIMA NÃO FATAL  PORTO VELHO  VEÍCULO ÚNICO           MOTO   2019-01-29   \n6   VÍTIMA NÃO FATAL  PORTO VELHO  VEÍCULO ÚNICO           MOTO   2019-01-31   \n9   VÍTIMA NÃO FATAL  PORTO VELHO           MOTO  VEÍCULO ÚNICO   2020-08-09   \n11  VÍTIMA NÃO FATAL  PORTO VELHO           MOTO  VEÍCULO ÚNICO   2020-06-10   \n12  VÍTIMA NÃO FATAL  PORTO VELHO           MOTO  VEÍCULO ÚNICO   2020-11-11   \n13  VÍTIMA NÃO FATAL  PORTO VELHO           MOTO  VEÍCULO ÚNICO   2020-11-15   \n14  VÍTIMA NÃO FATAL  PORTO VELHO           MOTO  VEÍCULO ÚNICO   2020-11-18   \n15  VÍTIMA NÃO FATAL  PORTO VELHO           MOTO  VEÍCULO ÚNICO   2020-11-21   \n16  VÍTIMA NÃO FATAL  PORTO VELHO           MOTO  VEÍCULO ÚNICO   2020-07-12   \n17  VÍTIMA NÃO FATAL  PORTO VELHO           MOTO  VEÍCULO ÚNICO   2019-10-08   \n18  VÍTIMA NÃO FATAL  PORTO VELHO           MOTO  VEÍCULO ÚNICO   2019-08-16   \n19  VÍTIMA NÃO FATAL  PORTO VELHO           MOTO  VEÍCULO ÚNICO   2019-08-20   \n20  VÍTIMA NÃO FATAL  PORTO VELHO           MOTO  VEÍCULO ÚNICO   2019-08-21   \n21  VÍTIMA NÃO FATAL  PORTO VELHO           MOTO  VEÍCULO ÚNICO   2019-08-25   \n22  VÍTIMA NÃO FATAL  PORTO VELHO           MOTO  VEÍCULO ÚNICO   2020-02-01   \n\n     FROTA       ID                    geometry  \n0   280860   701762  POINT (-63.84315 -8.76207)  \n1   280860   669833  POINT (-63.88424 -8.80609)  \n2   280860   733335  POINT (-63.86296 -8.73855)  \n3   280860   660121  POINT (-63.89255 -8.77496)  \n4   280860   663660  POINT (-63.98560 -8.71039)  \n5   280860   663022  POINT (-63.84447 -8.76868)  \n6   280860   693030  POINT (-63.84809 -8.75951)  \n9   280860  1133298  POINT (-63.83331 -8.79986)  \n11  280860  1136401  POINT (-63.85142 -8.76483)  \n12  280860  1165199  POINT (-63.82281 -8.77375)  \n13  280860  1168190  POINT (-63.82397 -8.75150)  \n14  280860  1181290  POINT (-63.86527 -8.79001)  \n15  280860  1172460  POINT (-63.81987 -8.75059)  \n16  280860  1185013  POINT (-63.84825 -8.74373)  \n17  280860   821910  POINT (-63.85201 -8.75091)  \n18  280860   826207  POINT (-63.83223 -8.76228)  \n19  280860   855646  POINT (-63.86908 -8.76416)  \n20  280860   865920  POINT (-63.83874 -8.77131)  \n21  280860   837454  POINT (-63.84569 -8.77495)  \n22  280860   959399  POINT (-63.87764 -8.78345)  ",
      "text/html": "<div>\n<style scoped>\n    .dataframe tbody tr th:only-of-type {\n        vertical-align: middle;\n    }\n\n    .dataframe tbody tr th {\n        vertical-align: top;\n    }\n\n    .dataframe thead th {\n        text-align: right;\n    }\n</style>\n<table border=\"1\" class=\"dataframe\">\n  <thead>\n    <tr style=\"text-align: right;\">\n      <th></th>\n      <th>CONSEQUENCIA</th>\n      <th>MUNICIPIO</th>\n      <th>VEICULO_1</th>\n      <th>VEICULO_2</th>\n      <th>DATA_DO_FATO</th>\n      <th>FROTA</th>\n      <th>ID</th>\n      <th>geometry</th>\n    </tr>\n  </thead>\n  <tbody>\n    <tr>\n      <th>0</th>\n      <td>VÍTIMA NÃO FATAL</td>\n      <td>PORTO VELHO</td>\n      <td>VEÍCULO ÚNICO</td>\n      <td>MOTO</td>\n      <td>2019-02-01</td>\n      <td>280860</td>\n      <td>701762</td>\n      <td>POINT (-63.84315 -8.76207)</td>\n    </tr>\n    <tr>\n      <th>1</th>\n      <td>VÍTIMA NÃO FATAL</td>\n      <td>PORTO VELHO</td>\n      <td>VEÍCULO ÚNICO</td>\n      <td>MOTO</td>\n      <td>2019-01-20</td>\n      <td>280860</td>\n      <td>669833</td>\n      <td>POINT (-63.88424 -8.80609)</td>\n    </tr>\n    <tr>\n      <th>2</th>\n      <td>VÍTIMA NÃO FATAL</td>\n      <td>PORTO VELHO</td>\n      <td>VEÍCULO ÚNICO</td>\n      <td>MOTO</td>\n      <td>2019-01-20</td>\n      <td>280860</td>\n      <td>733335</td>\n      <td>POINT (-63.86296 -8.73855)</td>\n    </tr>\n    <tr>\n      <th>3</th>\n      <td>VÍTIMA NÃO FATAL</td>\n      <td>PORTO VELHO</td>\n      <td>VEÍCULO ÚNICO</td>\n      <td>MOTO</td>\n      <td>2019-01-25</td>\n      <td>280860</td>\n      <td>660121</td>\n      <td>POINT (-63.89255 -8.77496)</td>\n    </tr>\n    <tr>\n      <th>4</th>\n      <td>VÍTIMA NÃO FATAL</td>\n      <td>PORTO VELHO</td>\n      <td>VEÍCULO ÚNICO</td>\n      <td>MOTO</td>\n      <td>2019-01-27</td>\n      <td>280860</td>\n      <td>663660</td>\n      <td>POINT (-63.98560 -8.71039)</td>\n    </tr>\n    <tr>\n      <th>5</th>\n      <td>VÍTIMA NÃO FATAL</td>\n      <td>PORTO VELHO</td>\n      <td>VEÍCULO ÚNICO</td>\n      <td>MOTO</td>\n      <td>2019-01-29</td>\n      <td>280860</td>\n      <td>663022</td>\n      <td>POINT (-63.84447 -8.76868)</td>\n    </tr>\n    <tr>\n      <th>6</th>\n      <td>VÍTIMA NÃO FATAL</td>\n      <td>PORTO VELHO</td>\n      <td>VEÍCULO ÚNICO</td>\n      <td>MOTO</td>\n      <td>2019-01-31</td>\n      <td>280860</td>\n      <td>693030</td>\n      <td>POINT (-63.84809 -8.75951)</td>\n    </tr>\n    <tr>\n      <th>9</th>\n      <td>VÍTIMA NÃO FATAL</td>\n      <td>PORTO VELHO</td>\n      <td>MOTO</td>\n      <td>VEÍCULO ÚNICO</td>\n      <td>2020-08-09</td>\n      <td>280860</td>\n      <td>1133298</td>\n      <td>POINT (-63.83331 -8.79986)</td>\n    </tr>\n    <tr>\n      <th>11</th>\n      <td>VÍTIMA NÃO FATAL</td>\n      <td>PORTO VELHO</td>\n      <td>MOTO</td>\n      <td>VEÍCULO ÚNICO</td>\n      <td>2020-06-10</td>\n      <td>280860</td>\n      <td>1136401</td>\n      <td>POINT (-63.85142 -8.76483)</td>\n    </tr>\n    <tr>\n      <th>12</th>\n      <td>VÍTIMA NÃO FATAL</td>\n      <td>PORTO VELHO</td>\n      <td>MOTO</td>\n      <td>VEÍCULO ÚNICO</td>\n      <td>2020-11-11</td>\n      <td>280860</td>\n      <td>1165199</td>\n      <td>POINT (-63.82281 -8.77375)</td>\n    </tr>\n    <tr>\n      <th>13</th>\n      <td>VÍTIMA NÃO FATAL</td>\n      <td>PORTO VELHO</td>\n      <td>MOTO</td>\n      <td>VEÍCULO ÚNICO</td>\n      <td>2020-11-15</td>\n      <td>280860</td>\n      <td>1168190</td>\n      <td>POINT (-63.82397 -8.75150)</td>\n    </tr>\n    <tr>\n      <th>14</th>\n      <td>VÍTIMA NÃO FATAL</td>\n      <td>PORTO VELHO</td>\n      <td>MOTO</td>\n      <td>VEÍCULO ÚNICO</td>\n      <td>2020-11-18</td>\n      <td>280860</td>\n      <td>1181290</td>\n      <td>POINT (-63.86527 -8.79001)</td>\n    </tr>\n    <tr>\n      <th>15</th>\n      <td>VÍTIMA NÃO FATAL</td>\n      <td>PORTO VELHO</td>\n      <td>MOTO</td>\n      <td>VEÍCULO ÚNICO</td>\n      <td>2020-11-21</td>\n      <td>280860</td>\n      <td>1172460</td>\n      <td>POINT (-63.81987 -8.75059)</td>\n    </tr>\n    <tr>\n      <th>16</th>\n      <td>VÍTIMA NÃO FATAL</td>\n      <td>PORTO VELHO</td>\n      <td>MOTO</td>\n      <td>VEÍCULO ÚNICO</td>\n      <td>2020-07-12</td>\n      <td>280860</td>\n      <td>1185013</td>\n      <td>POINT (-63.84825 -8.74373)</td>\n    </tr>\n    <tr>\n      <th>17</th>\n      <td>VÍTIMA NÃO FATAL</td>\n      <td>PORTO VELHO</td>\n      <td>MOTO</td>\n      <td>VEÍCULO ÚNICO</td>\n      <td>2019-10-08</td>\n      <td>280860</td>\n      <td>821910</td>\n      <td>POINT (-63.85201 -8.75091)</td>\n    </tr>\n    <tr>\n      <th>18</th>\n      <td>VÍTIMA NÃO FATAL</td>\n      <td>PORTO VELHO</td>\n      <td>MOTO</td>\n      <td>VEÍCULO ÚNICO</td>\n      <td>2019-08-16</td>\n      <td>280860</td>\n      <td>826207</td>\n      <td>POINT (-63.83223 -8.76228)</td>\n    </tr>\n    <tr>\n      <th>19</th>\n      <td>VÍTIMA NÃO FATAL</td>\n      <td>PORTO VELHO</td>\n      <td>MOTO</td>\n      <td>VEÍCULO ÚNICO</td>\n      <td>2019-08-20</td>\n      <td>280860</td>\n      <td>855646</td>\n      <td>POINT (-63.86908 -8.76416)</td>\n    </tr>\n    <tr>\n      <th>20</th>\n      <td>VÍTIMA NÃO FATAL</td>\n      <td>PORTO VELHO</td>\n      <td>MOTO</td>\n      <td>VEÍCULO ÚNICO</td>\n      <td>2019-08-21</td>\n      <td>280860</td>\n      <td>865920</td>\n      <td>POINT (-63.83874 -8.77131)</td>\n    </tr>\n    <tr>\n      <th>21</th>\n      <td>VÍTIMA NÃO FATAL</td>\n      <td>PORTO VELHO</td>\n      <td>MOTO</td>\n      <td>VEÍCULO ÚNICO</td>\n      <td>2019-08-25</td>\n      <td>280860</td>\n      <td>837454</td>\n      <td>POINT (-63.84569 -8.77495)</td>\n    </tr>\n    <tr>\n      <th>22</th>\n      <td>VÍTIMA NÃO FATAL</td>\n      <td>PORTO VELHO</td>\n      <td>MOTO</td>\n      <td>VEÍCULO ÚNICO</td>\n      <td>2020-02-01</td>\n      <td>280860</td>\n      <td>959399</td>\n      <td>POINT (-63.87764 -8.78345)</td>\n    </tr>\n  </tbody>\n</table>\n</div>"
     },
     "execution_count": 29,
     "metadata": {},
     "output_type": "execute_result"
    }
   ],
   "source": [
    "warnings.simplefilter('ignore',category=FutureWarning)\n",
    "\n",
    "# Gerar um GeoDataFrame a partir do DataFrame utilizando as colunas LATLON\n",
    "gdf = gpd.GeoDataFrame(df, geometry=gpd.points_from_xy(df.LONGITUDE, df.LATITUDE), crs=4674)\n",
    "# Não é mais necessários as colunas...\n",
    "gdf.drop(['LATITUDE', 'LONGITUDE'], axis=1, inplace=True)\n",
    "# Não é mais necessário o DataFrame...\n",
    "del df\n",
    "\n",
    "# Salvar os dados\n",
    "gdf.to_file('Acidentes_PortoVelho.geojson')\n",
    "gdf.head(20)"
   ],
   "metadata": {
    "collapsed": false,
    "pycharm": {
     "name": "#%%\n"
    }
   }
  }
 ],
 "metadata": {
  "kernelspec": {
   "display_name": "Python 3",
   "language": "python",
   "name": "python3"
  },
  "language_info": {
   "codemirror_mode": {
    "name": "ipython",
    "version": 2
   },
   "file_extension": ".py",
   "mimetype": "text/x-python",
   "name": "python",
   "nbconvert_exporter": "python",
   "pygments_lexer": "ipython2",
   "version": "2.7.6"
  }
 },
 "nbformat": 4,
 "nbformat_minor": 0
}