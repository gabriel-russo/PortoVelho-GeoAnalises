{
 "cells": [
  {
   "cell_type": "code",
   "execution_count": 4,
   "metadata": {
    "collapsed": true,
    "pycharm": {
     "name": "#%%\n"
    }
   },
   "outputs": [],
   "source": [
    "import geopandas as gpd\n",
    "import pandas as pd\n",
    "import json\n",
    "import requests"
   ]
  },
  {
   "cell_type": "markdown",
   "source": [
    "## Preparação: Requisição dos dados da API do Observatório\n",
    "\n",
    "> Nota: Não é possível solitiar vítima não fatal mais vítima fatal, pois retorna o código `http 500 - Internal Server Error` - Erro no tempo de execução. Será feito duas requisições separadas com arquivos diferentes, e então feito o merge."
   ],
   "metadata": {
    "collapsed": false,
    "pycharm": {
     "name": "#%% md\n"
    }
   }
  },
  {
   "cell_type": "code",
   "execution_count": 5,
   "outputs": [],
   "source": [
    "session = requests.Session()\n",
    "\n",
    "params_nao_fatal = {\"data\":\"[[\\\"Todos\\\"],[\\\"PORTO VELHO\\\"],[\\\"VÍTIMA NÃO FATAL\\\"],[\\\"Todos\\\"],[\\\"1/2019\\\"],[\\\"12/2020\\\"]]\",\n",
    "          \"labels\": \"[\\\"Natureza_do_Acidente\\\",\\\"Municipio\\\",\\\"Consequencia\\\",\\\"Via_1\\\",\\\"Data_Inicial\\\",\\\"Data_Final\\\"]\"}\n",
    "\n",
    "params_fatal = {\"data\":\"[[\\\"Todos\\\"],[\\\"PORTO VELHO\\\"],[\\\"VÍTIMA FATAL\\\"],[\\\"Todos\\\"],[\\\"1/2019\\\"],[\\\"12/2020\\\"]]\",\n",
    "          \"labels\": \"[\\\"Natureza_do_Acidente\\\",\\\"Municipio\\\",\\\"Consequencia\\\",\\\"Via_1\\\",\\\"Data_Inicial\\\",\\\"Data_Final\\\"]\"}\n",
    "\n",
    "cookie = {'chave':'lgpd'}\n",
    "\n",
    "req = requests.Session.post(session, url='http://observatorio.sepog.ro.gov.br/TransitoPerfil/GetGeoData', json=params_nao_fatal, cookies=cookie, stream=True)\n",
    "\n",
    "with open('AcidentesdeTransitoNaoFatal.json', 'wb') as arq_acidentes:\n",
    "    arq_acidentes.write(req.content)\n",
    "\n",
    "req = requests.Session.post(session, url='http://observatorio.sepog.ro.gov.br/TransitoPerfil/GetGeoData',json=params_fatal,cookies=cookie, stream=True)\n",
    "\n",
    "with open('AcidentesdeTransitoFatal.json', 'wb') as arq_acidentes:\n",
    "    arq_acidentes.write(req.content)"
   ],
   "metadata": {
    "collapsed": false,
    "pycharm": {
     "name": "#%%\n"
    }
   }
  },
  {
   "cell_type": "markdown",
   "source": [
    "## Primeiro passo: Normalização do JSON\n",
    "- Será normalizado usando um método do pandas: [json_normalize](https://pandas.pydata.org/pandas-docs/stable/reference/api/pandas.json_normalize.html)\n",
    "\n",
    "Formato padrão do dado:\n",
    "```\n",
    "{\n",
    "    \"<tipo de acidente>\": {\n",
    "          \"<id_aleatorio>\": {\n",
    "                \"LATITUDE\": <float>,\n",
    "                  \"LONGITUDE\": <float>,\n",
    "                  \"CONSEQUENCIA\": <string>,\n",
    "                  \"MUNICIPIO\": <string>,\n",
    "                  \"VEICULO_1\": <string>,\n",
    "                  \"VEICULO_2\": <string>,\n",
    "                  \"DATA_DO_FATO\": <datetime>,\n",
    "                  \"FROTA\": <int>\n",
    "          }\n",
    "    }\n",
    "}\n",
    "```"
   ],
   "metadata": {
    "collapsed": false,
    "pycharm": {
     "name": "#%% md\n"
    }
   }
  },
  {
   "cell_type": "code",
   "execution_count": 15,
   "outputs": [
    {
     "data": {
      "text/plain": "       LATITUDE   LONGITUDE      CONSEQUENCIA    MUNICIPIO      VEICULO_1  \\\n0     -8.762072  -63.843155  VÍTIMA NÃO FATAL  PORTO VELHO  VEÍCULO ÚNICO   \n1     -8.806092  -63.884237  VÍTIMA NÃO FATAL  PORTO VELHO  VEÍCULO ÚNICO   \n2     -8.738549  -63.862959  VÍTIMA NÃO FATAL  PORTO VELHO  VEÍCULO ÚNICO   \n3     -8.774956  -63.892546  VÍTIMA NÃO FATAL  PORTO VELHO  VEÍCULO ÚNICO   \n4     -8.710393  -63.985594  VÍTIMA NÃO FATAL  PORTO VELHO  VEÍCULO ÚNICO   \n...         ...         ...               ...          ...            ...   \n9553  -8.800215  -63.795577  VÍTIMA NÃO FATAL  PORTO VELHO                  \n9554  -8.800483  -63.734232  VÍTIMA NÃO FATAL  PORTO VELHO                  \n9555  -9.158756  -64.193839  VÍTIMA NÃO FATAL  PORTO VELHO                  \n9556  -8.766685  -63.884052  VÍTIMA NÃO FATAL  PORTO VELHO                  \n9557  -8.741762  -63.940741  VÍTIMA NÃO FATAL  PORTO VELHO                  \n\n     VEICULO_2         DATA_DO_FATO   FROTA  \n0         MOTO  02/01/2019 00:00:00  280860  \n1         MOTO  20/01/2019 00:00:00  280860  \n2         MOTO  20/01/2019 00:00:00  280860  \n3         MOTO  25/01/2019 00:00:00  280860  \n4         MOTO  27/01/2019 00:00:00  280860  \n...        ...                  ...     ...  \n9553            12/07/2020 00:00:00  280860  \n9554            08/07/2020 00:00:00  280860  \n9555            01/07/2020 00:00:00  280860  \n9556            01/07/2020 00:00:00  280860  \n9557            04/07/2020 00:00:00  280860  \n\n[9558 rows x 8 columns]",
      "text/html": "<div>\n<style scoped>\n    .dataframe tbody tr th:only-of-type {\n        vertical-align: middle;\n    }\n\n    .dataframe tbody tr th {\n        vertical-align: top;\n    }\n\n    .dataframe thead th {\n        text-align: right;\n    }\n</style>\n<table border=\"1\" class=\"dataframe\">\n  <thead>\n    <tr style=\"text-align: right;\">\n      <th></th>\n      <th>LATITUDE</th>\n      <th>LONGITUDE</th>\n      <th>CONSEQUENCIA</th>\n      <th>MUNICIPIO</th>\n      <th>VEICULO_1</th>\n      <th>VEICULO_2</th>\n      <th>DATA_DO_FATO</th>\n      <th>FROTA</th>\n    </tr>\n  </thead>\n  <tbody>\n    <tr>\n      <th>0</th>\n      <td>-8.762072</td>\n      <td>-63.843155</td>\n      <td>VÍTIMA NÃO FATAL</td>\n      <td>PORTO VELHO</td>\n      <td>VEÍCULO ÚNICO</td>\n      <td>MOTO</td>\n      <td>02/01/2019 00:00:00</td>\n      <td>280860</td>\n    </tr>\n    <tr>\n      <th>1</th>\n      <td>-8.806092</td>\n      <td>-63.884237</td>\n      <td>VÍTIMA NÃO FATAL</td>\n      <td>PORTO VELHO</td>\n      <td>VEÍCULO ÚNICO</td>\n      <td>MOTO</td>\n      <td>20/01/2019 00:00:00</td>\n      <td>280860</td>\n    </tr>\n    <tr>\n      <th>2</th>\n      <td>-8.738549</td>\n      <td>-63.862959</td>\n      <td>VÍTIMA NÃO FATAL</td>\n      <td>PORTO VELHO</td>\n      <td>VEÍCULO ÚNICO</td>\n      <td>MOTO</td>\n      <td>20/01/2019 00:00:00</td>\n      <td>280860</td>\n    </tr>\n    <tr>\n      <th>3</th>\n      <td>-8.774956</td>\n      <td>-63.892546</td>\n      <td>VÍTIMA NÃO FATAL</td>\n      <td>PORTO VELHO</td>\n      <td>VEÍCULO ÚNICO</td>\n      <td>MOTO</td>\n      <td>25/01/2019 00:00:00</td>\n      <td>280860</td>\n    </tr>\n    <tr>\n      <th>4</th>\n      <td>-8.710393</td>\n      <td>-63.985594</td>\n      <td>VÍTIMA NÃO FATAL</td>\n      <td>PORTO VELHO</td>\n      <td>VEÍCULO ÚNICO</td>\n      <td>MOTO</td>\n      <td>27/01/2019 00:00:00</td>\n      <td>280860</td>\n    </tr>\n    <tr>\n      <th>...</th>\n      <td>...</td>\n      <td>...</td>\n      <td>...</td>\n      <td>...</td>\n      <td>...</td>\n      <td>...</td>\n      <td>...</td>\n      <td>...</td>\n    </tr>\n    <tr>\n      <th>9553</th>\n      <td>-8.800215</td>\n      <td>-63.795577</td>\n      <td>VÍTIMA NÃO FATAL</td>\n      <td>PORTO VELHO</td>\n      <td></td>\n      <td></td>\n      <td>12/07/2020 00:00:00</td>\n      <td>280860</td>\n    </tr>\n    <tr>\n      <th>9554</th>\n      <td>-8.800483</td>\n      <td>-63.734232</td>\n      <td>VÍTIMA NÃO FATAL</td>\n      <td>PORTO VELHO</td>\n      <td></td>\n      <td></td>\n      <td>08/07/2020 00:00:00</td>\n      <td>280860</td>\n    </tr>\n    <tr>\n      <th>9555</th>\n      <td>-9.158756</td>\n      <td>-64.193839</td>\n      <td>VÍTIMA NÃO FATAL</td>\n      <td>PORTO VELHO</td>\n      <td></td>\n      <td></td>\n      <td>01/07/2020 00:00:00</td>\n      <td>280860</td>\n    </tr>\n    <tr>\n      <th>9556</th>\n      <td>-8.766685</td>\n      <td>-63.884052</td>\n      <td>VÍTIMA NÃO FATAL</td>\n      <td>PORTO VELHO</td>\n      <td></td>\n      <td></td>\n      <td>01/07/2020 00:00:00</td>\n      <td>280860</td>\n    </tr>\n    <tr>\n      <th>9557</th>\n      <td>-8.741762</td>\n      <td>-63.940741</td>\n      <td>VÍTIMA NÃO FATAL</td>\n      <td>PORTO VELHO</td>\n      <td></td>\n      <td></td>\n      <td>04/07/2020 00:00:00</td>\n      <td>280860</td>\n    </tr>\n  </tbody>\n</table>\n<p>9558 rows × 8 columns</p>\n</div>"
     },
     "execution_count": 15,
     "metadata": {},
     "output_type": "execute_result"
    }
   ],
   "source": [
    "with open('AcidentesdeTransitoNaoFatal.json', 'r') as arq_acidentes:\n",
    "    acidentes = json.load(arq_acidentes)\n",
    "\n",
    "    df = pd.DataFrame() # Crio um DataFrame vazio onde irá reunir os dados normalizados\n",
    "\n",
    "    for tipo_acidente, acidente in acidentes.items(): # Para cada tipo de acidente ...\n",
    "        for id_, informacoes in acidente.items(): # Para cada item do tipo de acidente...\n",
    "            df_items = pd.json_normalize(informacoes)\n",
    "            df = pd.concat((df, df_items), ignore_index=True)\n",
    "df"
   ],
   "metadata": {
    "collapsed": false,
    "pycharm": {
     "name": "#%%\n"
    }
   }
  },
  {
   "cell_type": "code",
   "execution_count": 16,
   "outputs": [
    {
     "data": {
      "text/plain": "       LATITUDE   LONGITUDE      CONSEQUENCIA    MUNICIPIO      VEICULO_1  \\\n0     -8.762072  -63.843155  VÍTIMA NÃO FATAL  PORTO VELHO  VEÍCULO ÚNICO   \n1     -8.806092  -63.884237  VÍTIMA NÃO FATAL  PORTO VELHO  VEÍCULO ÚNICO   \n2     -8.738549  -63.862959  VÍTIMA NÃO FATAL  PORTO VELHO  VEÍCULO ÚNICO   \n3     -8.774956  -63.892546  VÍTIMA NÃO FATAL  PORTO VELHO  VEÍCULO ÚNICO   \n4     -8.710393  -63.985594  VÍTIMA NÃO FATAL  PORTO VELHO  VEÍCULO ÚNICO   \n...         ...         ...               ...          ...            ...   \n9813  -9.347602  -64.644781      VÍTIMA FATAL  PORTO VELHO           MOTO   \n9814  -8.773548  -63.821836      VÍTIMA FATAL  PORTO VELHO           MOTO   \n9815  -9.750465  -66.618236      VÍTIMA FATAL  PORTO VELHO       CAMINHÃO   \n9816  -8.739714  -63.932140      VÍTIMA FATAL  PORTO VELHO                  \n9817  -9.750465  -66.618236      VÍTIMA FATAL  PORTO VELHO       CAMINHÃO   \n\n          VEICULO_2         DATA_DO_FATO   FROTA  \n0              MOTO  02/01/2019 00:00:00  280860  \n1              MOTO  20/01/2019 00:00:00  280860  \n2              MOTO  20/01/2019 00:00:00  280860  \n3              MOTO  25/01/2019 00:00:00  280860  \n4              MOTO  27/01/2019 00:00:00  280860  \n...             ...                  ...     ...  \n9813  VEÍCULO ÚNICO  04/02/2020 00:00:00  280860  \n9814  VEÍCULO ÚNICO  04/05/2020 00:00:00  280860  \n9815  VEÍCULO ÚNICO  28/08/2019 00:00:00  280860  \n9816                 04/10/2020 00:00:00  280860  \n9817  VEÍCULO ÚNICO  28/08/2019 00:00:00  280860  \n\n[9818 rows x 8 columns]",
      "text/html": "<div>\n<style scoped>\n    .dataframe tbody tr th:only-of-type {\n        vertical-align: middle;\n    }\n\n    .dataframe tbody tr th {\n        vertical-align: top;\n    }\n\n    .dataframe thead th {\n        text-align: right;\n    }\n</style>\n<table border=\"1\" class=\"dataframe\">\n  <thead>\n    <tr style=\"text-align: right;\">\n      <th></th>\n      <th>LATITUDE</th>\n      <th>LONGITUDE</th>\n      <th>CONSEQUENCIA</th>\n      <th>MUNICIPIO</th>\n      <th>VEICULO_1</th>\n      <th>VEICULO_2</th>\n      <th>DATA_DO_FATO</th>\n      <th>FROTA</th>\n    </tr>\n  </thead>\n  <tbody>\n    <tr>\n      <th>0</th>\n      <td>-8.762072</td>\n      <td>-63.843155</td>\n      <td>VÍTIMA NÃO FATAL</td>\n      <td>PORTO VELHO</td>\n      <td>VEÍCULO ÚNICO</td>\n      <td>MOTO</td>\n      <td>02/01/2019 00:00:00</td>\n      <td>280860</td>\n    </tr>\n    <tr>\n      <th>1</th>\n      <td>-8.806092</td>\n      <td>-63.884237</td>\n      <td>VÍTIMA NÃO FATAL</td>\n      <td>PORTO VELHO</td>\n      <td>VEÍCULO ÚNICO</td>\n      <td>MOTO</td>\n      <td>20/01/2019 00:00:00</td>\n      <td>280860</td>\n    </tr>\n    <tr>\n      <th>2</th>\n      <td>-8.738549</td>\n      <td>-63.862959</td>\n      <td>VÍTIMA NÃO FATAL</td>\n      <td>PORTO VELHO</td>\n      <td>VEÍCULO ÚNICO</td>\n      <td>MOTO</td>\n      <td>20/01/2019 00:00:00</td>\n      <td>280860</td>\n    </tr>\n    <tr>\n      <th>3</th>\n      <td>-8.774956</td>\n      <td>-63.892546</td>\n      <td>VÍTIMA NÃO FATAL</td>\n      <td>PORTO VELHO</td>\n      <td>VEÍCULO ÚNICO</td>\n      <td>MOTO</td>\n      <td>25/01/2019 00:00:00</td>\n      <td>280860</td>\n    </tr>\n    <tr>\n      <th>4</th>\n      <td>-8.710393</td>\n      <td>-63.985594</td>\n      <td>VÍTIMA NÃO FATAL</td>\n      <td>PORTO VELHO</td>\n      <td>VEÍCULO ÚNICO</td>\n      <td>MOTO</td>\n      <td>27/01/2019 00:00:00</td>\n      <td>280860</td>\n    </tr>\n    <tr>\n      <th>...</th>\n      <td>...</td>\n      <td>...</td>\n      <td>...</td>\n      <td>...</td>\n      <td>...</td>\n      <td>...</td>\n      <td>...</td>\n      <td>...</td>\n    </tr>\n    <tr>\n      <th>9813</th>\n      <td>-9.347602</td>\n      <td>-64.644781</td>\n      <td>VÍTIMA FATAL</td>\n      <td>PORTO VELHO</td>\n      <td>MOTO</td>\n      <td>VEÍCULO ÚNICO</td>\n      <td>04/02/2020 00:00:00</td>\n      <td>280860</td>\n    </tr>\n    <tr>\n      <th>9814</th>\n      <td>-8.773548</td>\n      <td>-63.821836</td>\n      <td>VÍTIMA FATAL</td>\n      <td>PORTO VELHO</td>\n      <td>MOTO</td>\n      <td>VEÍCULO ÚNICO</td>\n      <td>04/05/2020 00:00:00</td>\n      <td>280860</td>\n    </tr>\n    <tr>\n      <th>9815</th>\n      <td>-9.750465</td>\n      <td>-66.618236</td>\n      <td>VÍTIMA FATAL</td>\n      <td>PORTO VELHO</td>\n      <td>CAMINHÃO</td>\n      <td>VEÍCULO ÚNICO</td>\n      <td>28/08/2019 00:00:00</td>\n      <td>280860</td>\n    </tr>\n    <tr>\n      <th>9816</th>\n      <td>-8.739714</td>\n      <td>-63.932140</td>\n      <td>VÍTIMA FATAL</td>\n      <td>PORTO VELHO</td>\n      <td></td>\n      <td></td>\n      <td>04/10/2020 00:00:00</td>\n      <td>280860</td>\n    </tr>\n    <tr>\n      <th>9817</th>\n      <td>-9.750465</td>\n      <td>-66.618236</td>\n      <td>VÍTIMA FATAL</td>\n      <td>PORTO VELHO</td>\n      <td>CAMINHÃO</td>\n      <td>VEÍCULO ÚNICO</td>\n      <td>28/08/2019 00:00:00</td>\n      <td>280860</td>\n    </tr>\n  </tbody>\n</table>\n<p>9818 rows × 8 columns</p>\n</div>"
     },
     "execution_count": 16,
     "metadata": {},
     "output_type": "execute_result"
    }
   ],
   "source": [
    "with open('AcidentesdeTransitoFatal.json', 'r') as arq_acidentes:\n",
    "    acidentes = json.load(arq_acidentes)\n",
    "\n",
    "    df2 = pd.DataFrame() # Crio um DataFrame vazio onde irá reunir os dados normalizados\n",
    "\n",
    "    for tipo_acidente, acidente in acidentes.items(): # Para cada tipo de acidente ...\n",
    "        for id_, informacoes in acidente.items(): # Para cada item do tipo de acidente...\n",
    "            df_items = pd.json_normalize(informacoes)\n",
    "            df2 = pd.concat((df2, df_items), ignore_index=True)\n",
    "\n",
    "df = pd.concat((df, df2), axis=0, ignore_index=True)\n",
    "df"
   ],
   "metadata": {
    "collapsed": false,
    "pycharm": {
     "name": "#%%\n"
    }
   }
  },
  {
   "cell_type": "markdown",
   "source": [
    "## Segundo passo: Limpeza dos dados\n",
    "- Excluir dados sem LATLON\n",
    "- Excluir dados sem veículo 1 ou 2 por"
   ],
   "metadata": {
    "collapsed": false,
    "pycharm": {
     "name": "#%% md\n"
    }
   }
  },
  {
   "cell_type": "code",
   "execution_count": 3,
   "outputs": [],
   "source": [],
   "metadata": {
    "collapsed": false,
    "pycharm": {
     "name": "#%%\n"
    }
   }
  }
 ],
 "metadata": {
  "kernelspec": {
   "display_name": "Python 3",
   "language": "python",
   "name": "python3"
  },
  "language_info": {
   "codemirror_mode": {
    "name": "ipython",
    "version": 2
   },
   "file_extension": ".py",
   "mimetype": "text/x-python",
   "name": "python",
   "nbconvert_exporter": "python",
   "pygments_lexer": "ipython2",
   "version": "2.7.6"
  }
 },
 "nbformat": 4,
 "nbformat_minor": 0
}