{
 "cells": [
  {
   "cell_type": "code",
   "execution_count": 27,
   "outputs": [],
   "source": [
    "import geopandas as gpd\n",
    "import pandas as pd\n",
    "from json import load\n",
    "from requests import Session, post\n",
    "from os.path import exists\n",
    "from re import sub\n",
    "import warnings"
   ],
   "metadata": {
    "collapsed": false,
    "pycharm": {
     "name": "#%%\n"
    }
   }
  },
  {
   "cell_type": "markdown",
   "source": [
    "## Preparação: Requisição dos dados da API do Observatório\n",
    "\n",
    "> Nota: Não é possível solicitar dados de vítima não fatal mais vítima fatal, pois retorna o código `http 500 - Internal Server Error` - Erro no tempo de execução. Será feito duas requisições separadas e inseridas em arquivos diferentes, e então feito a colagem em seguida."
   ],
   "metadata": {
    "collapsed": false,
    "pycharm": {
     "name": "#%% md\n"
    }
   }
  },
  {
   "cell_type": "code",
   "execution_count": 28,
   "outputs": [],
   "source": [
    "session = Session()\n",
    "cookie = {'chave':'lgpd'}\n",
    "\n",
    "if not exists('AcidentesdeTransitoNaoFatal.json'):\n",
    "    params_nao_fatal = {\"data\":\"[[\\\"Todos\\\"],[\\\"PORTO VELHO\\\"],[\\\"VÍTIMA NÃO FATAL\\\"],[\\\"Todos\\\"],[\\\"1/2019\\\"],[\\\"12/2020\\\"]]\",\n",
    "                        \"labels\": \"[\\\"Natureza_do_Acidente\\\",\\\"Municipio\\\",\\\"Consequencia\\\",\\\"Via_1\\\",\\\"Data_Inicial\\\",\\\"Data_Final\\\"]\"}\n",
    "\n",
    "    req = Session.post(session, url='http://observatorio.sepog.ro.gov.br/TransitoPerfil/GetGeoData', json=params_nao_fatal, cookies=cookie, stream=True)\n",
    "    with open('AcidentesdeTransitoNaoFatal.json', 'wb') as arq_acidentes:\n",
    "        arq_acidentes.write(req.content)\n",
    "\n",
    "if not exists('AcidentesdeTransitoFatal.json'):\n",
    "    params_fatal = {\"data\":\"[[\\\"Todos\\\"],[\\\"PORTO VELHO\\\"],[\\\"VÍTIMA FATAL\\\"],[\\\"Todos\\\"],[\\\"1/2019\\\"],[\\\"12/2020\\\"]]\",\n",
    "                    \"labels\": \"[\\\"Natureza_do_Acidente\\\",\\\"Municipio\\\",\\\"Consequencia\\\",\\\"Via_1\\\",\\\"Data_Inicial\\\",\\\"Data_Final\\\"]\"}\n",
    "\n",
    "    req = Session.post(session, url='http://observatorio.sepog.ro.gov.br/TransitoPerfil/GetGeoData',json=params_fatal,cookies=cookie, stream=True)\n",
    "    with open('AcidentesdeTransitoFatal.json', 'wb') as arq_acidentes:\n",
    "        arq_acidentes.write(req.content)\n",
    "\n",
    "del session\n",
    "del cookie"
   ],
   "metadata": {
    "collapsed": false,
    "pycharm": {
     "name": "#%%\n"
    }
   }
  },
  {
   "cell_type": "markdown",
   "source": [
    "## Primeiro passo: Normalização do JSON\n",
    "- Será normalizado usando um método do pandas: [json_normalize](https://pandas.pydata.org/pandas-docs/stable/reference/api/pandas.json_normalize.html)\n",
    "\n",
    "Formato padrão do dado:\n",
    "```\n",
    "{\n",
    "    \"<tipo de acidente>\": {\n",
    "        \"<id>\": {\n",
    "            \"LATITUDE\": <float>,\n",
    "            \"LONGITUDE\": <float>,\n",
    "            \"CONSEQUENCIA\": <string>,\n",
    "            \"MUNICIPIO\": <string>,\n",
    "            \"VEICULO_1\": <string>,\n",
    "            \"VEICULO_2\": <string>,\n",
    "            \"DATA_DO_FATO\": <datetime>,\n",
    "            \"FROTA\": <int>\n",
    "        }\n",
    "    }\n",
    "}\n",
    "```"
   ],
   "metadata": {
    "collapsed": false,
    "pycharm": {
     "name": "#%% md\n"
    }
   }
  },
  {
   "cell_type": "code",
   "execution_count": 29,
   "outputs": [
    {
     "data": {
      "text/plain": "       LATITUDE   LONGITUDE      CONSEQUENCIA    MUNICIPIO      VEICULO_1  \\\n0     -8.762072  -63.843155  VÍTIMA NÃO FATAL  PORTO VELHO  VEÍCULO ÚNICO   \n1     -8.806092  -63.884237  VÍTIMA NÃO FATAL  PORTO VELHO  VEÍCULO ÚNICO   \n2     -8.738549  -63.862959  VÍTIMA NÃO FATAL  PORTO VELHO  VEÍCULO ÚNICO   \n3     -8.774956  -63.892546  VÍTIMA NÃO FATAL  PORTO VELHO  VEÍCULO ÚNICO   \n4     -8.710393  -63.985594  VÍTIMA NÃO FATAL  PORTO VELHO  VEÍCULO ÚNICO   \n...         ...         ...               ...          ...            ...   \n9813  -9.347602  -64.644781      VÍTIMA FATAL  PORTO VELHO           MOTO   \n9814  -8.773548  -63.821836      VÍTIMA FATAL  PORTO VELHO           MOTO   \n9815  -9.750465  -66.618236      VÍTIMA FATAL  PORTO VELHO       CAMINHÃO   \n9816  -8.739714  -63.932140      VÍTIMA FATAL  PORTO VELHO                  \n9817  -9.750465  -66.618236      VÍTIMA FATAL  PORTO VELHO       CAMINHÃO   \n\n          VEICULO_2         DATA_DO_FATO   FROTA         ID  \n0              MOTO  02/01/2019 00:00:00  280860     701762  \n1              MOTO  20/01/2019 00:00:00  280860     669833  \n2              MOTO  20/01/2019 00:00:00  280860     733335  \n3              MOTO  25/01/2019 00:00:00  280860     660121  \n4              MOTO  27/01/2019 00:00:00  280860     663660  \n...             ...                  ...     ...        ...  \n9813  VEÍCULO ÚNICO  04/02/2020 00:00:00  280860   267141,0  \n9814  VEÍCULO ÚNICO  04/05/2020 00:00:00  280860  1029466,0  \n9815  VEÍCULO ÚNICO  28/08/2019 00:00:00  280860   154501,0  \n9816                 04/10/2020 00:00:00  280860   312139,0  \n9817  VEÍCULO ÚNICO  28/08/2019 00:00:00  280860     154501  \n\n[9818 rows x 9 columns]",
      "text/html": "<div>\n<style scoped>\n    .dataframe tbody tr th:only-of-type {\n        vertical-align: middle;\n    }\n\n    .dataframe tbody tr th {\n        vertical-align: top;\n    }\n\n    .dataframe thead th {\n        text-align: right;\n    }\n</style>\n<table border=\"1\" class=\"dataframe\">\n  <thead>\n    <tr style=\"text-align: right;\">\n      <th></th>\n      <th>LATITUDE</th>\n      <th>LONGITUDE</th>\n      <th>CONSEQUENCIA</th>\n      <th>MUNICIPIO</th>\n      <th>VEICULO_1</th>\n      <th>VEICULO_2</th>\n      <th>DATA_DO_FATO</th>\n      <th>FROTA</th>\n      <th>ID</th>\n    </tr>\n  </thead>\n  <tbody>\n    <tr>\n      <th>0</th>\n      <td>-8.762072</td>\n      <td>-63.843155</td>\n      <td>VÍTIMA NÃO FATAL</td>\n      <td>PORTO VELHO</td>\n      <td>VEÍCULO ÚNICO</td>\n      <td>MOTO</td>\n      <td>02/01/2019 00:00:00</td>\n      <td>280860</td>\n      <td>701762</td>\n    </tr>\n    <tr>\n      <th>1</th>\n      <td>-8.806092</td>\n      <td>-63.884237</td>\n      <td>VÍTIMA NÃO FATAL</td>\n      <td>PORTO VELHO</td>\n      <td>VEÍCULO ÚNICO</td>\n      <td>MOTO</td>\n      <td>20/01/2019 00:00:00</td>\n      <td>280860</td>\n      <td>669833</td>\n    </tr>\n    <tr>\n      <th>2</th>\n      <td>-8.738549</td>\n      <td>-63.862959</td>\n      <td>VÍTIMA NÃO FATAL</td>\n      <td>PORTO VELHO</td>\n      <td>VEÍCULO ÚNICO</td>\n      <td>MOTO</td>\n      <td>20/01/2019 00:00:00</td>\n      <td>280860</td>\n      <td>733335</td>\n    </tr>\n    <tr>\n      <th>3</th>\n      <td>-8.774956</td>\n      <td>-63.892546</td>\n      <td>VÍTIMA NÃO FATAL</td>\n      <td>PORTO VELHO</td>\n      <td>VEÍCULO ÚNICO</td>\n      <td>MOTO</td>\n      <td>25/01/2019 00:00:00</td>\n      <td>280860</td>\n      <td>660121</td>\n    </tr>\n    <tr>\n      <th>4</th>\n      <td>-8.710393</td>\n      <td>-63.985594</td>\n      <td>VÍTIMA NÃO FATAL</td>\n      <td>PORTO VELHO</td>\n      <td>VEÍCULO ÚNICO</td>\n      <td>MOTO</td>\n      <td>27/01/2019 00:00:00</td>\n      <td>280860</td>\n      <td>663660</td>\n    </tr>\n    <tr>\n      <th>...</th>\n      <td>...</td>\n      <td>...</td>\n      <td>...</td>\n      <td>...</td>\n      <td>...</td>\n      <td>...</td>\n      <td>...</td>\n      <td>...</td>\n      <td>...</td>\n    </tr>\n    <tr>\n      <th>9813</th>\n      <td>-9.347602</td>\n      <td>-64.644781</td>\n      <td>VÍTIMA FATAL</td>\n      <td>PORTO VELHO</td>\n      <td>MOTO</td>\n      <td>VEÍCULO ÚNICO</td>\n      <td>04/02/2020 00:00:00</td>\n      <td>280860</td>\n      <td>267141,0</td>\n    </tr>\n    <tr>\n      <th>9814</th>\n      <td>-8.773548</td>\n      <td>-63.821836</td>\n      <td>VÍTIMA FATAL</td>\n      <td>PORTO VELHO</td>\n      <td>MOTO</td>\n      <td>VEÍCULO ÚNICO</td>\n      <td>04/05/2020 00:00:00</td>\n      <td>280860</td>\n      <td>1029466,0</td>\n    </tr>\n    <tr>\n      <th>9815</th>\n      <td>-9.750465</td>\n      <td>-66.618236</td>\n      <td>VÍTIMA FATAL</td>\n      <td>PORTO VELHO</td>\n      <td>CAMINHÃO</td>\n      <td>VEÍCULO ÚNICO</td>\n      <td>28/08/2019 00:00:00</td>\n      <td>280860</td>\n      <td>154501,0</td>\n    </tr>\n    <tr>\n      <th>9816</th>\n      <td>-8.739714</td>\n      <td>-63.932140</td>\n      <td>VÍTIMA FATAL</td>\n      <td>PORTO VELHO</td>\n      <td></td>\n      <td></td>\n      <td>04/10/2020 00:00:00</td>\n      <td>280860</td>\n      <td>312139,0</td>\n    </tr>\n    <tr>\n      <th>9817</th>\n      <td>-9.750465</td>\n      <td>-66.618236</td>\n      <td>VÍTIMA FATAL</td>\n      <td>PORTO VELHO</td>\n      <td>CAMINHÃO</td>\n      <td>VEÍCULO ÚNICO</td>\n      <td>28/08/2019 00:00:00</td>\n      <td>280860</td>\n      <td>154501</td>\n    </tr>\n  </tbody>\n</table>\n<p>9818 rows × 9 columns</p>\n</div>"
     },
     "execution_count": 29,
     "metadata": {},
     "output_type": "execute_result"
    }
   ],
   "source": [
    "with open('AcidentesdeTransitoNaoFatal.json', 'r') as arq_acidentes:\n",
    "    acidentes = load(arq_acidentes)\n",
    "\n",
    "    df = pd.DataFrame() # Crio um DataFrame vazio onde irá reunir os dados normalizados\n",
    "\n",
    "    for tipo_acidente, acidente in acidentes.items(): # Para cada tipo de acidente ...\n",
    "        for id_, informacoes in acidente.items(): # Para cada item do tipo de acidente...\n",
    "            informacoes.update({'ID':id_})\n",
    "            df_items = pd.json_normalize(informacoes)\n",
    "            df = pd.concat((df, df_items), ignore_index=True)\n",
    "\n",
    "with open('AcidentesdeTransitoFatal.json', 'r') as arq_acidentes:\n",
    "    acidentes = load(arq_acidentes)\n",
    "\n",
    "    # Mesma lógica para este DF\n",
    "    for tipo_acidente, acidente in acidentes.items():\n",
    "        for id_, informacoes in acidente.items():\n",
    "            informacoes.update({'ID':id_})\n",
    "            df_items = pd.json_normalize(informacoes)\n",
    "            df = pd.concat((df, df_items), ignore_index=True) # Como o DF já existe, utilizo ele para a inserção.\n",
    "\n",
    "df"
   ],
   "metadata": {
    "collapsed": false,
    "pycharm": {
     "name": "#%%\n"
    }
   }
  },
  {
   "cell_type": "markdown",
   "source": [
    "## Segundo passo: Limpeza dos dados\n",
    "- Retirar números após a virgula + a virgula do ID\n",
    "- Excluir dados sem LATLON\n",
    "- Tratando dados LATLON para gerar Geometria válida\n",
    "- Substituir valores vazios das colunas VEICULO_1 e VEICULO_2 com `NÃO INFORMADO`"
   ],
   "metadata": {
    "collapsed": false,
    "pycharm": {
     "name": "#%% md\n"
    }
   }
  },
  {
   "cell_type": "markdown",
   "source": [
    "#### Retirando a vírgula e os decimais"
   ],
   "metadata": {
    "collapsed": false,
    "pycharm": {
     "name": "#%% md\n"
    }
   }
  },
  {
   "cell_type": "code",
   "execution_count": 30,
   "outputs": [],
   "source": [
    "# Se tiver algum id com virgula mais qualquer outra coisa depois\n",
    "if df['ID'].str.contains(r'\\d,.*?').astype(bool).any():\n",
    "    dados_incorretos = df['ID'].loc[df['ID'].str.contains(r'\\d,.*?')]\n",
    "    # Para cada id, selec. da vírgula para frente e apague\n",
    "    dados_corretos = dados_incorretos.apply(lambda id_: sub(r'(?=,).+','', id_))\n",
    "    # Inserir dados corrigidos no DataFrame\n",
    "    df.loc[dados_corretos.index, ['ID']] = dados_corretos.to_frame()['ID']"
   ],
   "metadata": {
    "collapsed": false,
    "pycharm": {
     "name": "#%%\n"
    }
   }
  },
  {
   "cell_type": "markdown",
   "source": [
    "#### Remover dados que estão sem geo"
   ],
   "metadata": {
    "collapsed": false,
    "pycharm": {
     "name": "#%% md\n"
    }
   }
  },
  {
   "cell_type": "code",
   "execution_count": 31,
   "outputs": [
    {
     "data": {
      "text/plain": "       LATITUDE   LONGITUDE      CONSEQUENCIA    MUNICIPIO      VEICULO_1  \\\n0     -8.762072  -63.843155  VÍTIMA NÃO FATAL  PORTO VELHO  VEÍCULO ÚNICO   \n1     -8.806092  -63.884237  VÍTIMA NÃO FATAL  PORTO VELHO  VEÍCULO ÚNICO   \n2     -8.738549  -63.862959  VÍTIMA NÃO FATAL  PORTO VELHO  VEÍCULO ÚNICO   \n3     -8.774956  -63.892546  VÍTIMA NÃO FATAL  PORTO VELHO  VEÍCULO ÚNICO   \n4     -8.710393  -63.985594  VÍTIMA NÃO FATAL  PORTO VELHO  VEÍCULO ÚNICO   \n...         ...         ...               ...          ...            ...   \n9813  -9.347602  -64.644781      VÍTIMA FATAL  PORTO VELHO           MOTO   \n9814  -8.773548  -63.821836      VÍTIMA FATAL  PORTO VELHO           MOTO   \n9815  -9.750465  -66.618236      VÍTIMA FATAL  PORTO VELHO       CAMINHÃO   \n9816  -8.739714  -63.932140      VÍTIMA FATAL  PORTO VELHO                  \n9817  -9.750465  -66.618236      VÍTIMA FATAL  PORTO VELHO       CAMINHÃO   \n\n          VEICULO_2         DATA_DO_FATO   FROTA       ID  \n0              MOTO  02/01/2019 00:00:00  280860   701762  \n1              MOTO  20/01/2019 00:00:00  280860   669833  \n2              MOTO  20/01/2019 00:00:00  280860   733335  \n3              MOTO  25/01/2019 00:00:00  280860   660121  \n4              MOTO  27/01/2019 00:00:00  280860   663660  \n...             ...                  ...     ...      ...  \n9813  VEÍCULO ÚNICO  04/02/2020 00:00:00  280860   267141  \n9814  VEÍCULO ÚNICO  04/05/2020 00:00:00  280860  1029466  \n9815  VEÍCULO ÚNICO  28/08/2019 00:00:00  280860   154501  \n9816                 04/10/2020 00:00:00  280860   312139  \n9817  VEÍCULO ÚNICO  28/08/2019 00:00:00  280860   154501  \n\n[9339 rows x 9 columns]",
      "text/html": "<div>\n<style scoped>\n    .dataframe tbody tr th:only-of-type {\n        vertical-align: middle;\n    }\n\n    .dataframe tbody tr th {\n        vertical-align: top;\n    }\n\n    .dataframe thead th {\n        text-align: right;\n    }\n</style>\n<table border=\"1\" class=\"dataframe\">\n  <thead>\n    <tr style=\"text-align: right;\">\n      <th></th>\n      <th>LATITUDE</th>\n      <th>LONGITUDE</th>\n      <th>CONSEQUENCIA</th>\n      <th>MUNICIPIO</th>\n      <th>VEICULO_1</th>\n      <th>VEICULO_2</th>\n      <th>DATA_DO_FATO</th>\n      <th>FROTA</th>\n      <th>ID</th>\n    </tr>\n  </thead>\n  <tbody>\n    <tr>\n      <th>0</th>\n      <td>-8.762072</td>\n      <td>-63.843155</td>\n      <td>VÍTIMA NÃO FATAL</td>\n      <td>PORTO VELHO</td>\n      <td>VEÍCULO ÚNICO</td>\n      <td>MOTO</td>\n      <td>02/01/2019 00:00:00</td>\n      <td>280860</td>\n      <td>701762</td>\n    </tr>\n    <tr>\n      <th>1</th>\n      <td>-8.806092</td>\n      <td>-63.884237</td>\n      <td>VÍTIMA NÃO FATAL</td>\n      <td>PORTO VELHO</td>\n      <td>VEÍCULO ÚNICO</td>\n      <td>MOTO</td>\n      <td>20/01/2019 00:00:00</td>\n      <td>280860</td>\n      <td>669833</td>\n    </tr>\n    <tr>\n      <th>2</th>\n      <td>-8.738549</td>\n      <td>-63.862959</td>\n      <td>VÍTIMA NÃO FATAL</td>\n      <td>PORTO VELHO</td>\n      <td>VEÍCULO ÚNICO</td>\n      <td>MOTO</td>\n      <td>20/01/2019 00:00:00</td>\n      <td>280860</td>\n      <td>733335</td>\n    </tr>\n    <tr>\n      <th>3</th>\n      <td>-8.774956</td>\n      <td>-63.892546</td>\n      <td>VÍTIMA NÃO FATAL</td>\n      <td>PORTO VELHO</td>\n      <td>VEÍCULO ÚNICO</td>\n      <td>MOTO</td>\n      <td>25/01/2019 00:00:00</td>\n      <td>280860</td>\n      <td>660121</td>\n    </tr>\n    <tr>\n      <th>4</th>\n      <td>-8.710393</td>\n      <td>-63.985594</td>\n      <td>VÍTIMA NÃO FATAL</td>\n      <td>PORTO VELHO</td>\n      <td>VEÍCULO ÚNICO</td>\n      <td>MOTO</td>\n      <td>27/01/2019 00:00:00</td>\n      <td>280860</td>\n      <td>663660</td>\n    </tr>\n    <tr>\n      <th>...</th>\n      <td>...</td>\n      <td>...</td>\n      <td>...</td>\n      <td>...</td>\n      <td>...</td>\n      <td>...</td>\n      <td>...</td>\n      <td>...</td>\n      <td>...</td>\n    </tr>\n    <tr>\n      <th>9813</th>\n      <td>-9.347602</td>\n      <td>-64.644781</td>\n      <td>VÍTIMA FATAL</td>\n      <td>PORTO VELHO</td>\n      <td>MOTO</td>\n      <td>VEÍCULO ÚNICO</td>\n      <td>04/02/2020 00:00:00</td>\n      <td>280860</td>\n      <td>267141</td>\n    </tr>\n    <tr>\n      <th>9814</th>\n      <td>-8.773548</td>\n      <td>-63.821836</td>\n      <td>VÍTIMA FATAL</td>\n      <td>PORTO VELHO</td>\n      <td>MOTO</td>\n      <td>VEÍCULO ÚNICO</td>\n      <td>04/05/2020 00:00:00</td>\n      <td>280860</td>\n      <td>1029466</td>\n    </tr>\n    <tr>\n      <th>9815</th>\n      <td>-9.750465</td>\n      <td>-66.618236</td>\n      <td>VÍTIMA FATAL</td>\n      <td>PORTO VELHO</td>\n      <td>CAMINHÃO</td>\n      <td>VEÍCULO ÚNICO</td>\n      <td>28/08/2019 00:00:00</td>\n      <td>280860</td>\n      <td>154501</td>\n    </tr>\n    <tr>\n      <th>9816</th>\n      <td>-8.739714</td>\n      <td>-63.932140</td>\n      <td>VÍTIMA FATAL</td>\n      <td>PORTO VELHO</td>\n      <td></td>\n      <td></td>\n      <td>04/10/2020 00:00:00</td>\n      <td>280860</td>\n      <td>312139</td>\n    </tr>\n    <tr>\n      <th>9817</th>\n      <td>-9.750465</td>\n      <td>-66.618236</td>\n      <td>VÍTIMA FATAL</td>\n      <td>PORTO VELHO</td>\n      <td>CAMINHÃO</td>\n      <td>VEÍCULO ÚNICO</td>\n      <td>28/08/2019 00:00:00</td>\n      <td>280860</td>\n      <td>154501</td>\n    </tr>\n  </tbody>\n</table>\n<p>9339 rows × 9 columns</p>\n</div>"
     },
     "execution_count": 31,
     "metadata": {},
     "output_type": "execute_result"
    }
   ],
   "source": [
    "df.drop(df.loc[(df.LATITUDE == \"SEM GEO\") | (df.LONGITUDE == \"SEM GEO\")].index, inplace=True)\n",
    "df"
   ],
   "metadata": {
    "collapsed": false,
    "pycharm": {
     "name": "#%%\n"
    }
   }
  },
  {
   "cell_type": "markdown",
   "source": [
    "#### Retirando erros de possíveis erros de digitação na string LATLON"
   ],
   "metadata": {
    "collapsed": false,
    "pycharm": {
     "name": "#%% md\n"
    }
   }
  },
  {
   "cell_type": "markdown",
   "source": [
    "##### 1. Procurar dados com caracteres especiais"
   ],
   "metadata": {
    "collapsed": false,
    "pycharm": {
     "name": "#%% md\n"
    }
   }
  },
  {
   "cell_type": "code",
   "execution_count": 32,
   "outputs": [],
   "source": [
    "# Previnir que o LATLON tenha qualquer caracter especial OU 2 pontos OU 2 hífen\n",
    "Regex_Sem_Carac_Espec = r'[\\!\\\"\\#\\$%\\&\\'\\(\\)\\*\\+\\,\\/\\:\\;\\<\\=\\>\\?\\@\\[\\]\\^\\_\\`\\{\\|\\}\\~]+|[\\.]{2,}|[\\-]{2,}'"
   ],
   "metadata": {
    "collapsed": false,
    "pycharm": {
     "name": "#%%\n"
    }
   }
  },
  {
   "cell_type": "markdown",
   "source": [],
   "metadata": {
    "collapsed": false,
    "pycharm": {
     "name": "#%% md\n"
    }
   }
  },
  {
   "cell_type": "code",
   "execution_count": 33,
   "outputs": [],
   "source": [
    "# Se tiver caracteres ou duplicações de caract. ...\n",
    "if df['LATITUDE'].str.contains(Regex_Sem_Carac_Espec).astype(bool).any():\n",
    "    # Pegar linhas que estão com problemas\n",
    "    dados_incorretos = df['LATITUDE'].loc[df['LATITUDE'].str.contains(Regex_Sem_Carac_Espec)]\n",
    "    # Consertar erros\n",
    "    dados_corretos = dados_incorretos.apply(lambda lat: sub(r'[^\\-\\d\\.]|(\\.)(?=\\.)|(\\-)(?=\\-)','', lat))\n",
    "    # Inserir dados corrigidos no DataFrame\n",
    "    df.loc[dados_corretos.index, ['LATITUDE']] = dados_corretos.to_frame()['LATITUDE']\n",
    "\n",
    "if df['LONGITUDE'].str.contains(Regex_Sem_Carac_Espec).astype(bool).any():\n",
    "    dados_incorretos = df['LONGITUDE'].loc[df['LONGITUDE'].str.contains(Regex_Sem_Carac_Espec)]\n",
    "    dados_corretos = dados_incorretos.apply(lambda lat: sub(r'[^\\-\\d\\.]|(\\.)(?=\\.)|(\\-)(?=\\-)','', lat))\n",
    "    df.loc[dados_corretos.index, ['LONGITUDE']] = dados_corretos.to_frame()['LONGITUDE']"
   ],
   "metadata": {
    "collapsed": false,
    "pycharm": {
     "name": "#%%\n"
    }
   }
  },
  {
   "cell_type": "markdown",
   "source": [
    "#### Substituir dados vazios das colunas VEICULO_1 e VEICULO_2 com `NÃO INFORMADO`\n",
    "> Será utilizado o NÃO INFORMADO pois já existe no dado original, irei manter o padrão"
   ],
   "metadata": {
    "collapsed": false,
    "pycharm": {
     "name": "#%% md\n"
    }
   }
  },
  {
   "cell_type": "code",
   "execution_count": 34,
   "outputs": [],
   "source": [
    "# Selecione as tuplas da coluna VEICULO_1 que tenham a condição verdadeira e substitua com 'NÃO INFOMADO'\n",
    "df.loc[df.VEICULO_1 == '', 'VEICULO_1'] = 'NÃO INFORMADO'\n",
    "df.loc[df.VEICULO_2 == '', 'VEICULO_2'] = 'NÃO INFORMADO'"
   ],
   "metadata": {
    "collapsed": false,
    "pycharm": {
     "name": "#%%\n"
    }
   }
  },
  {
   "cell_type": "markdown",
   "source": [
    "### Terceiro Passo: Converção de dados e criar GeoDataFrame\n",
    "- Mudar tipo de dado da coluna DATA_DO_FATO para `datetime`\n",
    "- Mudar tipo de dado das colunas LATITUDE E LONGITUDE para `float`\n",
    "- Mudar tipo de dado da coluna ID para `int`\n",
    "- Gerar um `GeoDataFrame` válido a partir do `DataFrame`"
   ],
   "metadata": {
    "collapsed": false,
    "pycharm": {
     "name": "#%% md\n"
    }
   }
  },
  {
   "cell_type": "markdown",
   "source": [
    "#### Convertendo coluna DATA_DO_FATO para datetime"
   ],
   "metadata": {
    "collapsed": false,
    "pycharm": {
     "name": "#%% md\n"
    }
   }
  },
  {
   "cell_type": "code",
   "execution_count": 35,
   "outputs": [],
   "source": [
    "df.loc[:,'DATA_DO_FATO'] = pd.to_datetime(df['DATA_DO_FATO'])"
   ],
   "metadata": {
    "collapsed": false,
    "pycharm": {
     "name": "#%%\n"
    }
   }
  },
  {
   "cell_type": "markdown",
   "source": [
    "#### Convertendo colunas LATITUDE e LONGITUDE para float"
   ],
   "metadata": {
    "collapsed": false,
    "pycharm": {
     "name": "#%% md\n"
    }
   }
  },
  {
   "cell_type": "code",
   "execution_count": 36,
   "outputs": [],
   "source": [
    "df.loc[:, 'LATITUDE'] = pd.to_numeric(df['LATITUDE'], downcast='float')\n",
    "df.loc[:, 'LONGITUDE'] = pd.to_numeric(df['LONGITUDE'], downcast='float')"
   ],
   "metadata": {
    "collapsed": false,
    "pycharm": {
     "name": "#%%\n"
    }
   }
  },
  {
   "cell_type": "markdown",
   "source": [
    "#### Convertendo coluna ID para int"
   ],
   "metadata": {
    "collapsed": false,
    "pycharm": {
     "name": "#%% md\n"
    }
   }
  },
  {
   "cell_type": "code",
   "execution_count": 37,
   "outputs": [],
   "source": [
    "df.loc[:,'ID'] = pd.to_numeric(df['ID'], downcast='signed')"
   ],
   "metadata": {
    "collapsed": false,
    "pycharm": {
     "name": "#%%\n"
    }
   }
  },
  {
   "cell_type": "markdown",
   "source": [
    "#### Verificar se as conversões estão corretas"
   ],
   "metadata": {
    "collapsed": false,
    "pycharm": {
     "name": "#%% md\n"
    }
   }
  },
  {
   "cell_type": "code",
   "execution_count": 38,
   "outputs": [
    {
     "data": {
      "text/plain": "LATITUDE               float32\nLONGITUDE              float32\nCONSEQUENCIA            object\nMUNICIPIO               object\nVEICULO_1               object\nVEICULO_2               object\nDATA_DO_FATO    datetime64[ns]\nFROTA                   object\nID                       int32\ndtype: object"
     },
     "execution_count": 38,
     "metadata": {},
     "output_type": "execute_result"
    }
   ],
   "source": [
    "df.dtypes"
   ],
   "metadata": {
    "collapsed": false,
    "pycharm": {
     "name": "#%%\n"
    }
   }
  },
  {
   "cell_type": "markdown",
   "source": [
    "#### Gerar `GeoDataFrame` utilizando o construtor do GeoPandas"
   ],
   "metadata": {
    "collapsed": false,
    "pycharm": {
     "name": "#%% md\n"
    }
   }
  },
  {
   "cell_type": "code",
   "execution_count": 39,
   "outputs": [
    {
     "data": {
      "text/plain": "      LATITUDE  LONGITUDE      CONSEQUENCIA    MUNICIPIO      VEICULO_1  \\\n3546 -8.749580 -63.889835  VÍTIMA NÃO FATAL  PORTO VELHO    CAMINHONETE   \n3547 -8.798660 -63.891991  VÍTIMA NÃO FATAL  PORTO VELHO      AUTOMÓVEL   \n7284 -8.792099 -63.846622  VÍTIMA NÃO FATAL  PORTO VELHO  NÃO INFORMADO   \n7269 -8.763951 -63.899139  VÍTIMA NÃO FATAL  PORTO VELHO      AUTOMÓVEL   \n7973 -8.748065 -63.888157  VÍTIMA NÃO FATAL  PORTO VELHO      AUTOMÓVEL   \n3533 -8.746613 -63.875702  VÍTIMA NÃO FATAL  PORTO VELHO      AUTOMÓVEL   \n2765 -8.732511 -63.901100  VÍTIMA NÃO FATAL  PORTO VELHO      AUTOMÓVEL   \n3532 -8.761314 -63.836891  VÍTIMA NÃO FATAL  PORTO VELHO      AUTOMÓVEL   \n3544 -8.761023 -63.896503  VÍTIMA NÃO FATAL  PORTO VELHO      AUTOMÓVEL   \n7283 -8.740103 -63.890274  VÍTIMA NÃO FATAL  PORTO VELHO  NÃO INFORMADO   \n3545 -8.766476 -63.891674  VÍTIMA NÃO FATAL  PORTO VELHO      AUTOMÓVEL   \n3534 -8.767291 -63.904869  VÍTIMA NÃO FATAL  PORTO VELHO      AUTOMÓVEL   \n7972 -8.747191 -63.855133  VÍTIMA NÃO FATAL  PORTO VELHO           MOTO   \n3531 -8.762014 -63.906479  VÍTIMA NÃO FATAL  PORTO VELHO    CAMINHONETE   \n9478 -9.096399 -64.091927  VÍTIMA NÃO FATAL  PORTO VELHO  NÃO INFORMADO   \n9275 -8.806435 -63.889511  VÍTIMA NÃO FATAL  PORTO VELHO           MOTO   \n3539 -8.767345 -63.883865  VÍTIMA NÃO FATAL  PORTO VELHO           MOTO   \n7264 -8.755678 -63.842739  VÍTIMA NÃO FATAL  PORTO VELHO      AUTOMÓVEL   \n3537 -8.775305 -63.899101  VÍTIMA NÃO FATAL  PORTO VELHO      AUTOMÓVEL   \n9277 -8.760628 -63.844330  VÍTIMA NÃO FATAL  PORTO VELHO           MOTO   \n\n          VEICULO_2 DATA_DO_FATO   FROTA       ID                    geometry  \n3546           MOTO   2020-12-31  280860  1202116  POINT (-63.88984 -8.74958)  \n3547           MOTO   2020-12-31  280860  1202280  POINT (-63.89199 -8.79866)  \n7284  NÃO INFORMADO   2020-12-31  280860   331533  POINT (-63.84662 -8.79210)  \n7269           MOTO   2020-12-31  280860  1202030  POINT (-63.89914 -8.76395)  \n7973           MOTO   2020-12-30  280860  1201868  POINT (-63.88816 -8.74806)  \n3533           MOTO   2020-12-30  280860  1201737  POINT (-63.87570 -8.74661)  \n2765           MOTO   2020-12-30  280860  1201640  POINT (-63.90110 -8.73251)  \n3532           MOTO   2020-12-30  280860  1201735  POINT (-63.83689 -8.76131)  \n3544           MOTO   2020-12-30  280860  1201331  POINT (-63.89650 -8.76102)  \n7283  NÃO INFORMADO   2020-12-30  280860   331387  POINT (-63.89027 -8.74010)  \n3545           MOTO   2020-12-30  280860  1201582  POINT (-63.89167 -8.76648)  \n3534      AUTOMÓVEL   2020-12-30  280860  1201740  POINT (-63.90487 -8.76729)  \n7972      AUTOMÓVEL   2020-12-30  280860  1201068  POINT (-63.85513 -8.74719)  \n3531           MOTO   2020-12-30  280860  1201641  POINT (-63.90648 -8.76201)  \n9478  NÃO INFORMADO   2020-12-29  280860   333554  POINT (-64.09193 -9.09640)  \n9275  VEÍCULO ÚNICO   2020-12-29  280860  1200279  POINT (-63.88951 -8.80643)  \n3539      AUTOMÓVEL   2020-12-28  280860  1199942  POINT (-63.88387 -8.76735)  \n7264           MOTO   2020-12-28  280860  1199964  POINT (-63.84274 -8.75568)  \n3537           MOTO   2020-12-28  280860  1199344  POINT (-63.89910 -8.77530)  \n9277  VEÍCULO ÚNICO   2020-12-28  280860  1200280  POINT (-63.84433 -8.76063)  ",
      "text/html": "<div>\n<style scoped>\n    .dataframe tbody tr th:only-of-type {\n        vertical-align: middle;\n    }\n\n    .dataframe tbody tr th {\n        vertical-align: top;\n    }\n\n    .dataframe thead th {\n        text-align: right;\n    }\n</style>\n<table border=\"1\" class=\"dataframe\">\n  <thead>\n    <tr style=\"text-align: right;\">\n      <th></th>\n      <th>LATITUDE</th>\n      <th>LONGITUDE</th>\n      <th>CONSEQUENCIA</th>\n      <th>MUNICIPIO</th>\n      <th>VEICULO_1</th>\n      <th>VEICULO_2</th>\n      <th>DATA_DO_FATO</th>\n      <th>FROTA</th>\n      <th>ID</th>\n      <th>geometry</th>\n    </tr>\n  </thead>\n  <tbody>\n    <tr>\n      <th>3546</th>\n      <td>-8.749580</td>\n      <td>-63.889835</td>\n      <td>VÍTIMA NÃO FATAL</td>\n      <td>PORTO VELHO</td>\n      <td>CAMINHONETE</td>\n      <td>MOTO</td>\n      <td>2020-12-31</td>\n      <td>280860</td>\n      <td>1202116</td>\n      <td>POINT (-63.88984 -8.74958)</td>\n    </tr>\n    <tr>\n      <th>3547</th>\n      <td>-8.798660</td>\n      <td>-63.891991</td>\n      <td>VÍTIMA NÃO FATAL</td>\n      <td>PORTO VELHO</td>\n      <td>AUTOMÓVEL</td>\n      <td>MOTO</td>\n      <td>2020-12-31</td>\n      <td>280860</td>\n      <td>1202280</td>\n      <td>POINT (-63.89199 -8.79866)</td>\n    </tr>\n    <tr>\n      <th>7284</th>\n      <td>-8.792099</td>\n      <td>-63.846622</td>\n      <td>VÍTIMA NÃO FATAL</td>\n      <td>PORTO VELHO</td>\n      <td>NÃO INFORMADO</td>\n      <td>NÃO INFORMADO</td>\n      <td>2020-12-31</td>\n      <td>280860</td>\n      <td>331533</td>\n      <td>POINT (-63.84662 -8.79210)</td>\n    </tr>\n    <tr>\n      <th>7269</th>\n      <td>-8.763951</td>\n      <td>-63.899139</td>\n      <td>VÍTIMA NÃO FATAL</td>\n      <td>PORTO VELHO</td>\n      <td>AUTOMÓVEL</td>\n      <td>MOTO</td>\n      <td>2020-12-31</td>\n      <td>280860</td>\n      <td>1202030</td>\n      <td>POINT (-63.89914 -8.76395)</td>\n    </tr>\n    <tr>\n      <th>7973</th>\n      <td>-8.748065</td>\n      <td>-63.888157</td>\n      <td>VÍTIMA NÃO FATAL</td>\n      <td>PORTO VELHO</td>\n      <td>AUTOMÓVEL</td>\n      <td>MOTO</td>\n      <td>2020-12-30</td>\n      <td>280860</td>\n      <td>1201868</td>\n      <td>POINT (-63.88816 -8.74806)</td>\n    </tr>\n    <tr>\n      <th>3533</th>\n      <td>-8.746613</td>\n      <td>-63.875702</td>\n      <td>VÍTIMA NÃO FATAL</td>\n      <td>PORTO VELHO</td>\n      <td>AUTOMÓVEL</td>\n      <td>MOTO</td>\n      <td>2020-12-30</td>\n      <td>280860</td>\n      <td>1201737</td>\n      <td>POINT (-63.87570 -8.74661)</td>\n    </tr>\n    <tr>\n      <th>2765</th>\n      <td>-8.732511</td>\n      <td>-63.901100</td>\n      <td>VÍTIMA NÃO FATAL</td>\n      <td>PORTO VELHO</td>\n      <td>AUTOMÓVEL</td>\n      <td>MOTO</td>\n      <td>2020-12-30</td>\n      <td>280860</td>\n      <td>1201640</td>\n      <td>POINT (-63.90110 -8.73251)</td>\n    </tr>\n    <tr>\n      <th>3532</th>\n      <td>-8.761314</td>\n      <td>-63.836891</td>\n      <td>VÍTIMA NÃO FATAL</td>\n      <td>PORTO VELHO</td>\n      <td>AUTOMÓVEL</td>\n      <td>MOTO</td>\n      <td>2020-12-30</td>\n      <td>280860</td>\n      <td>1201735</td>\n      <td>POINT (-63.83689 -8.76131)</td>\n    </tr>\n    <tr>\n      <th>3544</th>\n      <td>-8.761023</td>\n      <td>-63.896503</td>\n      <td>VÍTIMA NÃO FATAL</td>\n      <td>PORTO VELHO</td>\n      <td>AUTOMÓVEL</td>\n      <td>MOTO</td>\n      <td>2020-12-30</td>\n      <td>280860</td>\n      <td>1201331</td>\n      <td>POINT (-63.89650 -8.76102)</td>\n    </tr>\n    <tr>\n      <th>7283</th>\n      <td>-8.740103</td>\n      <td>-63.890274</td>\n      <td>VÍTIMA NÃO FATAL</td>\n      <td>PORTO VELHO</td>\n      <td>NÃO INFORMADO</td>\n      <td>NÃO INFORMADO</td>\n      <td>2020-12-30</td>\n      <td>280860</td>\n      <td>331387</td>\n      <td>POINT (-63.89027 -8.74010)</td>\n    </tr>\n    <tr>\n      <th>3545</th>\n      <td>-8.766476</td>\n      <td>-63.891674</td>\n      <td>VÍTIMA NÃO FATAL</td>\n      <td>PORTO VELHO</td>\n      <td>AUTOMÓVEL</td>\n      <td>MOTO</td>\n      <td>2020-12-30</td>\n      <td>280860</td>\n      <td>1201582</td>\n      <td>POINT (-63.89167 -8.76648)</td>\n    </tr>\n    <tr>\n      <th>3534</th>\n      <td>-8.767291</td>\n      <td>-63.904869</td>\n      <td>VÍTIMA NÃO FATAL</td>\n      <td>PORTO VELHO</td>\n      <td>AUTOMÓVEL</td>\n      <td>AUTOMÓVEL</td>\n      <td>2020-12-30</td>\n      <td>280860</td>\n      <td>1201740</td>\n      <td>POINT (-63.90487 -8.76729)</td>\n    </tr>\n    <tr>\n      <th>7972</th>\n      <td>-8.747191</td>\n      <td>-63.855133</td>\n      <td>VÍTIMA NÃO FATAL</td>\n      <td>PORTO VELHO</td>\n      <td>MOTO</td>\n      <td>AUTOMÓVEL</td>\n      <td>2020-12-30</td>\n      <td>280860</td>\n      <td>1201068</td>\n      <td>POINT (-63.85513 -8.74719)</td>\n    </tr>\n    <tr>\n      <th>3531</th>\n      <td>-8.762014</td>\n      <td>-63.906479</td>\n      <td>VÍTIMA NÃO FATAL</td>\n      <td>PORTO VELHO</td>\n      <td>CAMINHONETE</td>\n      <td>MOTO</td>\n      <td>2020-12-30</td>\n      <td>280860</td>\n      <td>1201641</td>\n      <td>POINT (-63.90648 -8.76201)</td>\n    </tr>\n    <tr>\n      <th>9478</th>\n      <td>-9.096399</td>\n      <td>-64.091927</td>\n      <td>VÍTIMA NÃO FATAL</td>\n      <td>PORTO VELHO</td>\n      <td>NÃO INFORMADO</td>\n      <td>NÃO INFORMADO</td>\n      <td>2020-12-29</td>\n      <td>280860</td>\n      <td>333554</td>\n      <td>POINT (-64.09193 -9.09640)</td>\n    </tr>\n    <tr>\n      <th>9275</th>\n      <td>-8.806435</td>\n      <td>-63.889511</td>\n      <td>VÍTIMA NÃO FATAL</td>\n      <td>PORTO VELHO</td>\n      <td>MOTO</td>\n      <td>VEÍCULO ÚNICO</td>\n      <td>2020-12-29</td>\n      <td>280860</td>\n      <td>1200279</td>\n      <td>POINT (-63.88951 -8.80643)</td>\n    </tr>\n    <tr>\n      <th>3539</th>\n      <td>-8.767345</td>\n      <td>-63.883865</td>\n      <td>VÍTIMA NÃO FATAL</td>\n      <td>PORTO VELHO</td>\n      <td>MOTO</td>\n      <td>AUTOMÓVEL</td>\n      <td>2020-12-28</td>\n      <td>280860</td>\n      <td>1199942</td>\n      <td>POINT (-63.88387 -8.76735)</td>\n    </tr>\n    <tr>\n      <th>7264</th>\n      <td>-8.755678</td>\n      <td>-63.842739</td>\n      <td>VÍTIMA NÃO FATAL</td>\n      <td>PORTO VELHO</td>\n      <td>AUTOMÓVEL</td>\n      <td>MOTO</td>\n      <td>2020-12-28</td>\n      <td>280860</td>\n      <td>1199964</td>\n      <td>POINT (-63.84274 -8.75568)</td>\n    </tr>\n    <tr>\n      <th>3537</th>\n      <td>-8.775305</td>\n      <td>-63.899101</td>\n      <td>VÍTIMA NÃO FATAL</td>\n      <td>PORTO VELHO</td>\n      <td>AUTOMÓVEL</td>\n      <td>MOTO</td>\n      <td>2020-12-28</td>\n      <td>280860</td>\n      <td>1199344</td>\n      <td>POINT (-63.89910 -8.77530)</td>\n    </tr>\n    <tr>\n      <th>9277</th>\n      <td>-8.760628</td>\n      <td>-63.844330</td>\n      <td>VÍTIMA NÃO FATAL</td>\n      <td>PORTO VELHO</td>\n      <td>MOTO</td>\n      <td>VEÍCULO ÚNICO</td>\n      <td>2020-12-28</td>\n      <td>280860</td>\n      <td>1200280</td>\n      <td>POINT (-63.84433 -8.76063)</td>\n    </tr>\n  </tbody>\n</table>\n</div>"
     },
     "execution_count": 39,
     "metadata": {},
     "output_type": "execute_result"
    }
   ],
   "source": [
    "warnings.simplefilter('ignore',category=FutureWarning)\n",
    "\n",
    "# Gerar um GeoDataFrame a partir do DataFrame utilizando as colunas LATLON\n",
    "gdf = gpd.GeoDataFrame(df, geometry=gpd.points_from_xy(df.LONGITUDE, df.LATITUDE), crs=4674)\n",
    "\n",
    "# Retira os registros duplicados\n",
    "gdf = gdf.drop_duplicates()\n",
    "gdf = gdf.sort_values(['DATA_DO_FATO'],ascending=False)\n",
    "# Não é mais necessário o DataFrame...\n",
    "del df\n",
    "\n",
    "# Salvar os dados\n",
    "gdf.to_file('Acidentes_Rondonia.geojson')\n",
    "gdf.head(20)"
   ],
   "metadata": {
    "collapsed": false,
    "pycharm": {
     "name": "#%%\n"
    }
   }
  }
 ],
 "metadata": {
  "kernelspec": {
   "display_name": "Python 3",
   "language": "python",
   "name": "python3"
  },
  "language_info": {
   "codemirror_mode": {
    "name": "ipython",
    "version": 2
   },
   "file_extension": ".py",
   "mimetype": "text/x-python",
   "name": "python",
   "nbconvert_exporter": "python",
   "pygments_lexer": "ipython2",
   "version": "2.7.6"
  }
 },
 "nbformat": 4,
 "nbformat_minor": 0
}