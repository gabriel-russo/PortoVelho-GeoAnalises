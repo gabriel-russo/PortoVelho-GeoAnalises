{
 "cells": [
  {
   "cell_type": "markdown",
   "source": [
    "# Gráfico 1: Cruzamentos mais perigosos"
   ],
   "metadata": {
    "collapsed": false,
    "pycharm": {
     "name": "#%% md\n"
    }
   }
  },
  {
   "cell_type": "markdown",
   "source": [
    "### Coletando as geometrias das ruas de Porto Velho"
   ],
   "metadata": {
    "collapsed": false,
    "pycharm": {
     "name": "#%% md\n"
    }
   }
  },
  {
   "cell_type": "code",
   "execution_count": 14,
   "metadata": {
    "collapsed": true,
    "pycharm": {
     "name": "#%%\n"
    }
   },
   "outputs": [],
   "source": [
    "from osmnx import geometries_from_address\n",
    "import geopandas as gpd\n",
    "import warnings"
   ]
  },
  {
   "cell_type": "code",
   "execution_count": 15,
   "outputs": [],
   "source": [
    "# Carrega dados de acidentes\n",
    "gdf = gpd.read_file('Acidentes_PortoVelho.geojson')"
   ],
   "metadata": {
    "collapsed": false,
    "pycharm": {
     "name": "#%%\n"
    }
   }
  },
  {
   "cell_type": "code",
   "execution_count": 16,
   "outputs": [
    {
     "name": "stderr",
     "output_type": "stream",
     "text": [
      "/tmp/ipykernel_6340/2645232131.py:23: UserWarning: Geometry is in a geographic CRS. Results from 'buffer' are likely incorrect. Use 'GeoSeries.to_crs()' to re-project geometries to a projected CRS before this operation.\n",
      "\n",
      "  geometry=ponto_pvh.buffer(0.10),\n"
     ]
    },
    {
     "data": {
      "text/plain": "  element_type     osmid                      name  \\\n1          way  28994217                       NaN   \n2          way  28994221    Avenida Rio de Janeiro   \n3          way  28994239       Rua Padre Chiquinho   \n4          way  28994240           Avenida Farquar   \n5          way  28994243  Avenida Presidente Dutra   \n\n                                            geometry      highway alt_name  \\\n1  LINESTRING (-63.86209 -8.78329, -63.86319 -8.7...        trunk      NaN   \n2  LINESTRING (-63.88116 -8.77129, -63.88024 -8.7...    secondary      NaN   \n3  LINESTRING (-63.90759 -8.74792, -63.90889 -8.7...  residential      NaN   \n4  LINESTRING (-63.90811 -8.76591, -63.90738 -8.7...     tertiary      NaN   \n5  LINESTRING (-63.90911 -8.75026, -63.90910 -8.7...     tertiary      NaN   \n\n  oneway bridge layer surface  \n1    yes    NaN   NaN   paved  \n2    yes    NaN   NaN     NaN  \n3    NaN    NaN   NaN     NaN  \n4    yes    NaN   NaN     NaN  \n5    yes    NaN   NaN     NaN  ",
      "text/html": "<div>\n<style scoped>\n    .dataframe tbody tr th:only-of-type {\n        vertical-align: middle;\n    }\n\n    .dataframe tbody tr th {\n        vertical-align: top;\n    }\n\n    .dataframe thead th {\n        text-align: right;\n    }\n</style>\n<table border=\"1\" class=\"dataframe\">\n  <thead>\n    <tr style=\"text-align: right;\">\n      <th></th>\n      <th>element_type</th>\n      <th>osmid</th>\n      <th>name</th>\n      <th>geometry</th>\n      <th>highway</th>\n      <th>alt_name</th>\n      <th>oneway</th>\n      <th>bridge</th>\n      <th>layer</th>\n      <th>surface</th>\n    </tr>\n  </thead>\n  <tbody>\n    <tr>\n      <th>1</th>\n      <td>way</td>\n      <td>28994217</td>\n      <td>NaN</td>\n      <td>LINESTRING (-63.86209 -8.78329, -63.86319 -8.7...</td>\n      <td>trunk</td>\n      <td>NaN</td>\n      <td>yes</td>\n      <td>NaN</td>\n      <td>NaN</td>\n      <td>paved</td>\n    </tr>\n    <tr>\n      <th>2</th>\n      <td>way</td>\n      <td>28994221</td>\n      <td>Avenida Rio de Janeiro</td>\n      <td>LINESTRING (-63.88116 -8.77129, -63.88024 -8.7...</td>\n      <td>secondary</td>\n      <td>NaN</td>\n      <td>yes</td>\n      <td>NaN</td>\n      <td>NaN</td>\n      <td>NaN</td>\n    </tr>\n    <tr>\n      <th>3</th>\n      <td>way</td>\n      <td>28994239</td>\n      <td>Rua Padre Chiquinho</td>\n      <td>LINESTRING (-63.90759 -8.74792, -63.90889 -8.7...</td>\n      <td>residential</td>\n      <td>NaN</td>\n      <td>NaN</td>\n      <td>NaN</td>\n      <td>NaN</td>\n      <td>NaN</td>\n    </tr>\n    <tr>\n      <th>4</th>\n      <td>way</td>\n      <td>28994240</td>\n      <td>Avenida Farquar</td>\n      <td>LINESTRING (-63.90811 -8.76591, -63.90738 -8.7...</td>\n      <td>tertiary</td>\n      <td>NaN</td>\n      <td>yes</td>\n      <td>NaN</td>\n      <td>NaN</td>\n      <td>NaN</td>\n    </tr>\n    <tr>\n      <th>5</th>\n      <td>way</td>\n      <td>28994243</td>\n      <td>Avenida Presidente Dutra</td>\n      <td>LINESTRING (-63.90911 -8.75026, -63.90910 -8.7...</td>\n      <td>tertiary</td>\n      <td>NaN</td>\n      <td>yes</td>\n      <td>NaN</td>\n      <td>NaN</td>\n      <td>NaN</td>\n    </tr>\n  </tbody>\n</table>\n</div>"
     },
     "execution_count": 16,
     "metadata": {},
     "output_type": "execute_result"
    }
   ],
   "source": [
    "# tags: https://wiki.openstreetmap.org/wiki/Map_features\n",
    "osm_pvh = geometries_from_address(\"Porto Velho, Rondonia, Brazil\",\n",
    "                                  tags={'place': 'city',\n",
    "                                        'highway': ['trunk', 'secondary', 'residential',\n",
    "                                                    'tertiary', 'service', 'primary',\n",
    "                                                    'primary_link', 'trunk_link', 'unclassified',\n",
    "                                                    'track', 'path', 'living_street',\n",
    "                                                    'footway', 'tertiary_link', 'secondary_link',\n",
    "                                                    'cycleway', 'services', 'proposed', 'pedestrian']}\n",
    "                                  , dist=20000)\n",
    "\n",
    "pvh = osm_pvh[['name', 'geometry', 'highway', 'alt_name', 'oneway', 'bridge', 'layer', 'surface']]\n",
    "pvh = pvh.reset_index()\n",
    "# Mudar crs\n",
    "pvh = pvh.to_crs(epsg=4674)\n",
    "\n",
    "# Pegar localização da cidade de Porto Velho\n",
    "ponto_pvh = pvh[pvh['name'] == 'Porto Velho']\n",
    "# Deleta multiindex node e numero do osm\n",
    "ponto_pvh = ponto_pvh.reset_index()\n",
    "# Cria GDF para o buffer (apenas para comodidade)\n",
    "buffer_area_interesse = gpd.GeoDataFrame(ponto_pvh['name'],\n",
    "                                         geometry=ponto_pvh.buffer(0.10),\n",
    "                                         crs=4674)\n",
    "# Deleta ponto e deleta a sobra de dados\n",
    "del ponto_pvh\n",
    "del osm_pvh\n",
    "\n",
    "# Remover point que indica a cidade de pvh\n",
    "pvh = pvh.drop(pvh[pvh['name'] == 'Porto Velho'].index, axis=0)\n",
    "pvh.head(5)"
   ],
   "metadata": {
    "collapsed": false,
    "pycharm": {
     "name": "#%%\n"
    }
   }
  },
  {
   "cell_type": "markdown",
   "source": [
    "### Seleção e visualização dos dados\n",
    "- Será feito um buffer de 0.10 graus (~11km) em volta do ponto que indica o perímetro urbano de Porto Velho.\n",
    "- Em seguida será feito um filtro dos acidentes que fazem intersecção com o buffer\n",
    "- Visualizar os dados"
   ],
   "metadata": {
    "collapsed": false,
    "pycharm": {
     "name": "#%% md\n"
    }
   }
  },
  {
   "cell_type": "code",
   "execution_count": 17,
   "outputs": [],
   "source": [
    "import matplotlib.pyplot as plt"
   ],
   "metadata": {
    "collapsed": false,
    "pycharm": {
     "name": "#%%\n"
    }
   }
  },
  {
   "cell_type": "markdown",
   "source": [
    "#### Visualizando o buffer em relação a cidade"
   ],
   "metadata": {
    "collapsed": false,
    "pycharm": {
     "name": "#%% md\n"
    }
   }
  },
  {
   "cell_type": "code",
   "execution_count": null,
   "outputs": [],
   "source": [
    "warnings.simplefilter('ignore', category=DeprecationWarning)\n",
    "\n",
    "# Plota as ruas mais o buffer\n",
    "fig, ax = plt.subplots(figsize=(10, 15))\n",
    "buffer_area_interesse.plot(ax=ax, alpha=.7)\n",
    "pvh.plot(ax=ax, facecolor='White', edgecolor='black')"
   ],
   "metadata": {
    "collapsed": false,
    "pycharm": {
     "name": "#%%\n",
     "is_executing": true
    }
   }
  },
  {
   "cell_type": "markdown",
   "source": [
    "#### Fazer o clip e visualizar o dado com as outras camadas"
   ],
   "metadata": {
    "collapsed": false,
    "pycharm": {
     "name": "#%% md\n"
    }
   }
  },
  {
   "cell_type": "code",
   "execution_count": null,
   "outputs": [],
   "source": [
    "warnings.simplefilter('ignore', category=DeprecationWarning)\n",
    "\n",
    "# Recorte os acidentes que estão dentro do buffer\n",
    "gdf = gdf.clip(buffer_area_interesse.unary_union)\n",
    "\n",
    "fig, ax = plt.subplots(figsize=(15, 10))\n",
    "\n",
    "# Zoom no plot\n",
    "ax.set_ylim([-8.850, -8.675])\n",
    "ax.set_xlim([-63.975, -63.775])\n",
    "\n",
    "# Plota a cidade mais buffer\n",
    "pvh.plot(ax=ax, facecolor='None', edgecolor='black', alpha=.4, linewidth=2, zorder=1)\n",
    "buffer_area_interesse.plot(ax=ax, facecolor='None', edgecolor='blue', alpha=.3, zorder=2)\n",
    "\n",
    "# Plota os acidentes\n",
    "gdf.plot(ax=ax,\n",
    "         markersize=20,\n",
    "         column='CONSEQUENCIA',\n",
    "         marker=\"^\", zorder=3)\n",
    "\n",
    "plt.show()"
   ],
   "metadata": {
    "collapsed": false,
    "pycharm": {
     "name": "#%%\n",
     "is_executing": true
    }
   }
  },
  {
   "cell_type": "markdown",
   "source": [
    "### Fazer operações topológicas para gerar ranking de cruzamentos perigosos"
   ],
   "metadata": {
    "collapsed": false,
    "pycharm": {
     "name": "#%% md\n"
    }
   }
  },
  {
   "cell_type": "code",
   "execution_count": null,
   "outputs": [],
   "source": [],
   "metadata": {
    "collapsed": false,
    "pycharm": {
     "name": "#%%\n",
     "is_executing": true
    }
   }
  }
 ],
 "metadata": {
  "kernelspec": {
   "display_name": "Python 3",
   "language": "python",
   "name": "python3"
  },
  "language_info": {
   "codemirror_mode": {
    "name": "ipython",
    "version": 2
   },
   "file_extension": ".py",
   "mimetype": "text/x-python",
   "name": "python",
   "nbconvert_exporter": "python",
   "pygments_lexer": "ipython2",
   "version": "2.7.6"
  }
 },
 "nbformat": 4,
 "nbformat_minor": 0
}